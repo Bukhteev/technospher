{
 "cells": [
  {
   "cell_type": "markdown",
   "metadata": {},
   "source": [
    "**Общая информация**\n",
    "\n",
    "**Срок сдачи:** 20 марта 2019, 06:00 <br\\>\n",
    "**Штраф за опоздание:** -1 балл после 06:00 20 марта, -2 балла после 06:00 27 марта, -3 балла после 06:00 3 апреля\n",
    "\n",
    "При отправлении ДЗ указывайте фамилию в названии файла\n",
    "Присылать ДЗ необходимо в виде ссылки на свой github репозиторий в slack @alkhamush\n",
    "\n",
    "Необходимо в slack скинуть ссылку в личный чат @alkhamush\n",
    "Пример ссылки:\n",
    "https://github.com/stroykova/spheremailru/stroykova_hw1.ipynb \n",
    "\n",
    "\n",
    "Используйте данный Ipython Notebook при оформлении домашнего задания."
   ]
  },
  {
   "cell_type": "markdown",
   "metadata": {},
   "source": [
    "###### Задание 1 (2 баллов)\n",
    "Реализовать KNN в классе MyKNeighborsClassifier (обязательное условие: точность не ниже sklearn реализации)\n",
    "Разберитесь самостоятельно, какая мера расстояния используется в KNeighborsClassifier дефолтно и реализуйте свой алгоритм именно с этой мерой. Самостоятельно разберитесь, как считается score из KNeighborsClassifier и реализуйте аналог в своём классе. Score не должен уступать значению KNN из sklearn\n",
    "\n",
    "###### Задание 2 (2 балла)\n",
    "Добиться скорости работы на fit,  predict и predict_proba сравнимой со sklearn для iris и mnist\n",
    "Для этого используем numpy\n",
    "\n",
    "###### Задание 3 (2 балла)\n",
    "Для iris найдите такой параметр n_neighbors, при котором выдаётся наилучший score. Нарисуйте график зависимости score от n_neighbors\n",
    "\n",
    "###### Задание 4 (3 балла)\n",
    "Добавить algorithm='kd_tree' в реализацию KNN (использовать KDTree из sklearn.neighbors). Значение n_neighbors нужно взять из задания 3. Добиться скорости работы на fit,  predict и predict_proba сравнимой со sklearn для iris и mnist\n",
    "Для этого используем numpy. Score не должен уступать значению KNN из sklearn\n",
    "\n",
    "###### Задание 5 (1 балла)\n",
    "Описать для чего нужны следующие библиотеки/классы/функции (список будет ниже)\n",
    "\n",
    "**Штрафные баллы:**\n",
    "\n",
    "1. Невыполнение PEP8 -1 балл\n",
    "2. Отсутствие фамилии в имени скрипта (скрипт должен называться по аналогии со stroykova_hw1.ipynb) -1 балл\n",
    "3. Все строчки должны быть выполнены. Нужно, чтобы output команды можно было увидеть уже в git'е. В противном случае -1 балл\n",
    "4. При оформлении ДЗ нужно пользоваться данным файлом в качестве шаблона. Не нужно удалять и видоизменять структуру кода и текст. В противном случае -1 балл\n"
   ]
  },
  {
   "cell_type": "code",
   "execution_count": 1,
   "metadata": {},
   "outputs": [],
   "source": [
    "import numpy as np\n",
    "import matplotlib.pyplot as plt\n",
    "\n",
    "import seaborn as sns\n",
    "from sklearn import datasets\n",
    "from sklearn.base import ClassifierMixin\n",
    "from sklearn.datasets import fetch_mldata\n",
    "from sklearn.neighbors.base import NeighborsBase, KNeighborsMixin, SupervisedIntegerMixin \n",
    "from sklearn.model_selection import train_test_split\n",
    "from sklearn.neighbors import KNeighborsClassifier\n",
    "from sklearn.neighbors import KDTree\n",
    "%load_ext pycodestyle_magic"
   ]
  },
  {
   "cell_type": "code",
   "execution_count": 2,
   "metadata": {},
   "outputs": [],
   "source": [
    "# %%pycodestyle\n",
    "from scipy.spatial.distance import cdist\n",
    "\n",
    "\n",
    "class MyKNeighborsClassifier(NeighborsBase, KNeighborsMixin,\n",
    "                             SupervisedIntegerMixin, ClassifierMixin):\n",
    "\n",
    "    def __init__(self, n_neighbors, algorithm='brute'):\n",
    "        self.n_neighbors = n_neighbors\n",
    "        self.algorithm = algorithm\n",
    "\n",
    "    def fit(self, X, y):\n",
    "        self.y_tr = y\n",
    "        self.x_tr = X\n",
    "        self.n_class = np.max(y)+1\n",
    "\n",
    "    def predict(self, X):\n",
    "        if self.algorithm == \"kd_tree\":       \n",
    "            tree = KDTree(self.x_tr)\n",
    "            _, ind = tree.query(X, k=self.n_neighbors)\n",
    "            classes = y_train[ind]\n",
    "\n",
    "        elif self.algorithm == \"brute\":\n",
    "            distanse = cdist(X, self.x_tr, metric='euclidean')\n",
    "            classes = y_train[np.argsort(distanse)[:, :self.n_neighbors]]\n",
    "\n",
    "        Y_pred = np.zeros(len(X), dtype=self.y_tr.dtype)\n",
    "\n",
    "        for i in range(len(X)):\n",
    "            Y_pred[i] = np.argmax(np.bincount(classes[i]))\n",
    "\n",
    "        return Y_pred\n",
    "\n",
    "    def predict_proba(self, X):\n",
    "        if self.algorithm == \"kd_tree\":\n",
    "            tree = KDTree(self.x_tr)\n",
    "            distanse, ind = tree.query(X, k=self.n_neighbors)\n",
    "            classes = y_train[ind]\n",
    "\n",
    "        elif self.algorithm == \"brute\":\n",
    "            distanse = cdist(X, self.x_tr, metric='euclidean')\n",
    "            classes = y_train[np.argsort(distanse)[:, :self.n_neighbors]]\n",
    "\n",
    "        Y_pred = np.zeros((len(X), self.n_class), dtype=np.float16)\n",
    "\n",
    "        c = 0\n",
    "        for i in classes:\n",
    "            for j in i:\n",
    "                Y_pred[c][j] += 1.0\n",
    "\n",
    "            Y_pred[c] = Y_pred[c] / np.sum(Y_pred[c])\n",
    "\n",
    "            c += 1\n",
    "\n",
    "        return Y_pred\n",
    "\n",
    "    def score(self, X, y):\n",
    "        return (self.predict(X) == y).mean()"
   ]
  },
  {
   "cell_type": "markdown",
   "metadata": {},
   "source": [
    "**IRIS**"
   ]
  },
  {
   "cell_type": "code",
   "execution_count": 3,
   "metadata": {},
   "outputs": [],
   "source": [
    "iris = datasets.load_iris()"
   ]
  },
  {
   "cell_type": "code",
   "execution_count": 4,
   "metadata": {},
   "outputs": [],
   "source": [
    "X_train, X_test, y_train, y_test = train_test_split(iris.data, iris.target, test_size=0.1, stratify=iris.target)"
   ]
  },
  {
   "cell_type": "code",
   "execution_count": 5,
   "metadata": {},
   "outputs": [],
   "source": [
    "clf = KNeighborsClassifier(n_neighbors=2)\n",
    "my_clf = MyKNeighborsClassifier(n_neighbors=2)"
   ]
  },
  {
   "cell_type": "code",
   "execution_count": 6,
   "metadata": {},
   "outputs": [
    {
     "name": "stdout",
     "output_type": "stream",
     "text": [
      "CPU times: user 0 ns, sys: 4 ms, total: 4 ms\n",
      "Wall time: 2.34 ms\n"
     ]
    },
    {
     "data": {
      "text/plain": [
       "KNeighborsClassifier(algorithm='auto', leaf_size=30, metric='minkowski',\n",
       "           metric_params=None, n_jobs=None, n_neighbors=2, p=2,\n",
       "           weights='uniform')"
      ]
     },
     "execution_count": 6,
     "metadata": {},
     "output_type": "execute_result"
    }
   ],
   "source": [
    "%time clf.fit(X_train, y_train)"
   ]
  },
  {
   "cell_type": "code",
   "execution_count": 7,
   "metadata": {},
   "outputs": [
    {
     "name": "stdout",
     "output_type": "stream",
     "text": [
      "CPU times: user 0 ns, sys: 0 ns, total: 0 ns\n",
      "Wall time: 71 µs\n"
     ]
    }
   ],
   "source": [
    "%time my_clf.fit(X_train, y_train)"
   ]
  },
  {
   "cell_type": "code",
   "execution_count": 8,
   "metadata": {},
   "outputs": [
    {
     "name": "stdout",
     "output_type": "stream",
     "text": [
      "CPU times: user 4 ms, sys: 0 ns, total: 4 ms\n",
      "Wall time: 2.55 ms\n"
     ]
    },
    {
     "data": {
      "text/plain": [
       "array([2, 1, 1, 0, 0, 2, 1, 0, 1, 0, 2, 1, 1, 2, 0])"
      ]
     },
     "execution_count": 8,
     "metadata": {},
     "output_type": "execute_result"
    }
   ],
   "source": [
    "%time clf.predict(X_test)"
   ]
  },
  {
   "cell_type": "code",
   "execution_count": 9,
   "metadata": {},
   "outputs": [
    {
     "name": "stdout",
     "output_type": "stream",
     "text": [
      "CPU times: user 0 ns, sys: 0 ns, total: 0 ns\n",
      "Wall time: 369 µs\n"
     ]
    },
    {
     "data": {
      "text/plain": [
       "array([2, 1, 1, 0, 0, 2, 1, 0, 1, 0, 2, 1, 1, 2, 0])"
      ]
     },
     "execution_count": 9,
     "metadata": {},
     "output_type": "execute_result"
    }
   ],
   "source": [
    "%time my_clf.predict(X_test)"
   ]
  },
  {
   "cell_type": "code",
   "execution_count": 10,
   "metadata": {},
   "outputs": [
    {
     "name": "stdout",
     "output_type": "stream",
     "text": [
      "CPU times: user 0 ns, sys: 0 ns, total: 0 ns\n",
      "Wall time: 852 µs\n"
     ]
    },
    {
     "data": {
      "text/plain": [
       "array([[0. , 0. , 1. ],\n",
       "       [0. , 0.5, 0.5],\n",
       "       [0. , 1. , 0. ],\n",
       "       [1. , 0. , 0. ],\n",
       "       [1. , 0. , 0. ],\n",
       "       [0. , 0. , 1. ],\n",
       "       [0. , 1. , 0. ],\n",
       "       [1. , 0. , 0. ],\n",
       "       [0. , 1. , 0. ],\n",
       "       [1. , 0. , 0. ],\n",
       "       [0. , 0. , 1. ],\n",
       "       [0. , 1. , 0. ],\n",
       "       [0. , 1. , 0. ],\n",
       "       [0. , 0. , 1. ],\n",
       "       [1. , 0. , 0. ]])"
      ]
     },
     "execution_count": 10,
     "metadata": {},
     "output_type": "execute_result"
    }
   ],
   "source": [
    "%time clf.predict_proba(X_test)"
   ]
  },
  {
   "cell_type": "code",
   "execution_count": 11,
   "metadata": {},
   "outputs": [
    {
     "name": "stdout",
     "output_type": "stream",
     "text": [
      "CPU times: user 4 ms, sys: 0 ns, total: 4 ms\n",
      "Wall time: 3.13 ms\n"
     ]
    },
    {
     "data": {
      "text/plain": [
       "array([[0. , 0. , 1. ],\n",
       "       [0. , 0.5, 0.5],\n",
       "       [0. , 1. , 0. ],\n",
       "       [1. , 0. , 0. ],\n",
       "       [1. , 0. , 0. ],\n",
       "       [0. , 0. , 1. ],\n",
       "       [0. , 1. , 0. ],\n",
       "       [1. , 0. , 0. ],\n",
       "       [0. , 1. , 0. ],\n",
       "       [1. , 0. , 0. ],\n",
       "       [0. , 0. , 1. ],\n",
       "       [0. , 1. , 0. ],\n",
       "       [0. , 1. , 0. ],\n",
       "       [0. , 0. , 1. ],\n",
       "       [1. , 0. , 0. ]], dtype=float16)"
      ]
     },
     "execution_count": 11,
     "metadata": {},
     "output_type": "execute_result"
    }
   ],
   "source": [
    "%time my_clf.predict_proba(X_test)"
   ]
  },
  {
   "cell_type": "code",
   "execution_count": 12,
   "metadata": {},
   "outputs": [
    {
     "data": {
      "text/plain": [
       "0.9333333333333333"
      ]
     },
     "execution_count": 12,
     "metadata": {},
     "output_type": "execute_result"
    }
   ],
   "source": [
    "clf.score(X_test, y_test)"
   ]
  },
  {
   "cell_type": "code",
   "execution_count": 13,
   "metadata": {},
   "outputs": [
    {
     "data": {
      "text/plain": [
       "0.9333333333333333"
      ]
     },
     "execution_count": 13,
     "metadata": {},
     "output_type": "execute_result"
    }
   ],
   "source": [
    "my_clf.score(X_test, y_test)"
   ]
  },
  {
   "cell_type": "markdown",
   "metadata": {},
   "source": [
    "Задание 3"
   ]
  },
  {
   "cell_type": "code",
   "execution_count": 29,
   "metadata": {},
   "outputs": [
    {
     "data": {
      "image/png": "[encoded data removed]",
      "text/plain": [
       "<Figure size 1080x864 with 1 Axes>"
      ]
     },
     "metadata": {},
     "output_type": "display_data"
    },
    {
     "data": {
      "image/png": "[encoded data removed]",
      "text/plain": [
       "<Figure size 1080x864 with 1 Axes>"
      ]
     },
     "metadata": {},
     "output_type": "display_data"
    }
   ],
   "source": [
    "n_max = 40\n",
    "test_n = 200\n",
    "my_train_score = np.zeros(n_max-1)\n",
    "my_test_score = np.zeros(n_max-1)\n",
    "train_score = np.zeros(n_max-1)\n",
    "test_score = np.zeros(n_max-1)\n",
    "x_ax = np.arange(1, n_max)\n",
    "for i in range(1, n_max):\n",
    "    my_test = []\n",
    "    my_train = []\n",
    "    test = []\n",
    "    train = []\n",
    "    for j in range(test_n):\n",
    "#make different train and test for better models\n",
    "        X_train, X_test, y_train, y_test = train_test_split(\n",
    "            iris.data, iris.target,\n",
    "            test_size=0.1, stratify=iris.target\n",
    "        )\n",
    "#my classifier\n",
    "        my_clf = MyKNeighborsClassifier(n_neighbors=i)\n",
    "        my_clf.fit(X_train, y_train)\n",
    "        my_test.append(my_clf.score(X_test, y_test))\n",
    "        my_train.append(my_clf.score(X_train, y_train))\n",
    "# sklearn\n",
    "        clf = KNeighborsClassifier(n_neighbors=i)\n",
    "        clf.fit(X_train, y_train)\n",
    "        test.append(clf.score(X_test, y_test))\n",
    "        train.append(clf.score(X_train, y_train))\n",
    "    \n",
    "# my classifier\n",
    "    my_train_score[i-1] = np.mean(my_train)\n",
    "    my_test_score[i-1] = np.mean(my_test)\n",
    "# sklearn\n",
    "    train_score[i-1] = np.mean(my_train)\n",
    "    test_score[i-1] = np.mean(my_test)\n",
    "\n",
    "# plots\n",
    "plt.figure(figsize=(15, 12))\n",
    "\n",
    "# my classifier\n",
    "plt.subplot(2, 1, 1)\n",
    "plt.xlim(1, n_max-1)\n",
    "plt.title(\"My KNN\")\n",
    "plt.plot(np.arange(1, n_max), my_test_score, label=\"test\", color=\"green\")\n",
    "plt.plot(np.arange(1, n_max), my_train_score, label=\"train\", color=\"blue\")\n",
    "plt.xlabel('Number of neighbors')\n",
    "plt.ylabel('Accurasy')\n",
    "plt.legend()\n",
    "plt.grid(linestyle='--', linewidth=1)\n",
    "plt.show()\n",
    "\n",
    "plt.figure(figsize=(15, 12))\n",
    "\n",
    "plt.subplot(2, 1, 2)\n",
    "plt.xlim(1, n_max-1)\n",
    "plt.title(\"Sklearn KNN\")\n",
    "plt.plot(np.arange(1, n_max), test_score, label=\"test\", color=\"green\")\n",
    "plt.plot(np.arange(1, n_max), train_score, label=\"train\", color=\"blue\")\n",
    "plt.xlabel('Number of neighbors')\n",
    "plt.ylabel('Accurasy')\n",
    "plt.legend()\n",
    "plt.grid(linestyle='--', linewidth=1)\n",
    "plt.show()"
   ]
  },
  {
   "cell_type": "markdown",
   "metadata": {},
   "source": [
    "**MNIST**"
   ]
  },
  {
   "cell_type": "code",
   "execution_count": 32,
   "metadata": {},
   "outputs": [],
   "source": [
    "mnist = fetch_mldata('MNIST original')"
   ]
  },
  {
   "cell_type": "code",
   "execution_count": 33,
   "metadata": {},
   "outputs": [],
   "source": [
    "X_train, X_test, y_train, y_test = train_test_split(X, mnist.target, test_size=0.01, stratify=mnist.target)"
   ]
  },
  {
   "cell_type": "code",
   "execution_count": 34,
   "metadata": {},
   "outputs": [],
   "source": [
    "clf = KNeighborsClassifier(n_neighbors=2)\n",
    "my_clf = MyKNeighborsClassifier(n_neighbors=2)"
   ]
  },
  {
   "cell_type": "code",
   "execution_count": 35,
   "metadata": {},
   "outputs": [
    {
     "name": "stdout",
     "output_type": "stream",
     "text": [
      "CPU times: user 21.9 s, sys: 416 ms, total: 22.3 s\n",
      "Wall time: 22.3 s\n"
     ]
    },
    {
     "data": {
      "text/plain": [
       "KNeighborsClassifier(algorithm='auto', leaf_size=30, metric='minkowski',\n",
       "           metric_params=None, n_jobs=None, n_neighbors=2, p=2,\n",
       "           weights='uniform')"
      ]
     },
     "execution_count": 35,
     "metadata": {},
     "output_type": "execute_result"
    }
   ],
   "source": [
    "%time clf.fit(X_train, y_train)"
   ]
  },
  {
   "cell_type": "code",
   "execution_count": 36,
   "metadata": {},
   "outputs": [
    {
     "name": "stdout",
     "output_type": "stream",
     "text": [
      "CPU times: user 0 ns, sys: 0 ns, total: 0 ns\n",
      "Wall time: 86.7 ms\n"
     ]
    }
   ],
   "source": [
    "%time my_clf.fit(X_train, y_train)"
   ]
  },
  {
   "cell_type": "code",
   "execution_count": 37,
   "metadata": {},
   "outputs": [
    {
     "name": "stdout",
     "output_type": "stream",
     "text": [
      "CPU times: user 49.7 s, sys: 136 ms, total: 49.9 s\n",
      "Wall time: 49.9 s\n"
     ]
    },
    {
     "data": {
      "text/plain": [
       "array([1, 3, 5, 7, 5, 9, 0, 3, 6, 9, 8, 1, 7, 1, 8, 9, 2, 2, 9, 4, 0, 4,\n",
       "       0, 5, 6, 6, 9, 8, 1, 6, 6, 6, 1, 1, 7, 2, 1, 4, 8, 0, 6, 4, 8, 9,\n",
       "       1, 8, 5, 9, 7, 8, 2, 6, 4, 5, 1, 2, 3, 7, 0, 7, 1, 6, 2, 0, 8, 8,\n",
       "       9, 1, 7, 1, 0, 8, 3, 1, 8, 7, 7, 1, 3, 4, 5, 9, 1, 0, 9, 0, 3, 5,\n",
       "       9, 3, 4, 9, 4, 9, 7, 2, 9, 9, 5, 5, 7, 3, 0, 8, 5, 0, 7, 0, 2, 4,\n",
       "       6, 6, 6, 3, 7, 4, 2, 6, 8, 4, 4, 0, 0, 1, 4, 1, 5, 3, 1, 4, 4, 6,\n",
       "       2, 6, 5, 8, 6, 5, 1, 7, 6, 4, 1, 2, 9, 3, 1, 3, 3, 9, 0, 6, 3, 8,\n",
       "       3, 4, 7, 0, 2, 0, 3, 7, 7, 1, 2, 6, 1, 6, 9, 3, 1, 5, 7, 6, 2, 5,\n",
       "       0, 2, 8, 7, 3, 2, 6, 0, 2, 4, 5, 5, 8, 3, 4, 7, 4, 5, 1, 7, 6, 6,\n",
       "       2, 5, 3, 9, 6, 6, 7, 3, 5, 1, 4, 3, 3, 2, 2, 9, 1, 8, 2, 3, 7, 2,\n",
       "       7, 5, 5, 8, 4, 1, 4, 7, 4, 2, 3, 4, 9, 5, 9, 5, 0, 3, 2, 0, 5, 9,\n",
       "       5, 8, 1, 8, 9, 8, 0, 2, 3, 2, 3, 3, 1, 5, 6, 5, 3, 6, 7, 8, 4, 6,\n",
       "       5, 3, 0, 7, 9, 1, 1, 7, 1, 3, 6, 2, 3, 7, 5, 8, 4, 6, 4, 0, 0, 1,\n",
       "       4, 9, 2, 7, 0, 5, 1, 5, 2, 3, 8, 9, 3, 7, 5, 3, 7, 3, 3, 1, 9, 1,\n",
       "       5, 7, 5, 1, 9, 5, 6, 6, 9, 7, 4, 1, 6, 4, 4, 0, 9, 0, 5, 7, 8, 0,\n",
       "       7, 2, 9, 3, 0, 7, 1, 5, 0, 3, 6, 6, 2, 0, 9, 5, 3, 8, 4, 2, 0, 1,\n",
       "       8, 6, 2, 2, 5, 1, 0, 7, 6, 8, 8, 5, 6, 8, 2, 3, 9, 0, 0, 3, 0, 9,\n",
       "       7, 6, 4, 0, 8, 2, 4, 3, 7, 0, 0, 9, 1, 1, 8, 3, 8, 1, 7, 6, 4, 3,\n",
       "       5, 1, 8, 0, 2, 5, 2, 2, 6, 5, 7, 3, 9, 2, 9, 2, 8, 1, 2, 7, 1, 4,\n",
       "       1, 7, 9, 8, 4, 3, 2, 4, 0, 1, 1, 7, 6, 9, 8, 8, 9, 8, 2, 6, 3, 2,\n",
       "       7, 4, 1, 4, 7, 1, 3, 0, 2, 4, 8, 7, 1, 7, 9, 8, 5, 2, 7, 5, 6, 6,\n",
       "       9, 1, 2, 7, 4, 3, 0, 7, 9, 2, 7, 9, 0, 1, 6, 9, 3, 8, 5, 4, 9, 0,\n",
       "       2, 1, 5, 1, 9, 1, 8, 0, 4, 4, 7, 8, 2, 5, 6, 4, 0, 7, 0, 7, 2, 1,\n",
       "       2, 2, 0, 7, 1, 6, 0, 7, 3, 0, 5, 9, 7, 6, 6, 4, 9, 9, 7, 4, 3, 0,\n",
       "       7, 3, 4, 9, 6, 2, 8, 3, 4, 4, 1, 6, 4, 0, 6, 4, 0, 3, 6, 1, 3, 2,\n",
       "       5, 6, 3, 0, 4, 0, 1, 9, 6, 8, 3, 4, 0, 9, 5, 9, 1, 2, 2, 3, 7, 1,\n",
       "       7, 4, 3, 1, 4, 0, 8, 5, 7, 8, 2, 4, 1, 9, 6, 1, 2, 9, 9, 5, 2, 6,\n",
       "       8, 7, 6, 5, 0, 8], dtype=uint8)"
      ]
     },
     "execution_count": 37,
     "metadata": {},
     "output_type": "execute_result"
    }
   ],
   "source": [
    "%time clf.predict(X_test)"
   ]
  },
  {
   "cell_type": "code",
   "execution_count": 38,
   "metadata": {},
   "outputs": [
    {
     "name": "stdout",
     "output_type": "stream",
     "text": [
      "CPU times: user 30.3 s, sys: 1.08 s, total: 31.3 s\n",
      "Wall time: 42.2 s\n"
     ]
    },
    {
     "data": {
      "text/plain": [
       "array([1, 3, 5, 7, 5, 9, 0, 3, 6, 9, 8, 1, 7, 1, 8, 9, 2, 2, 9, 4, 0, 4,\n",
       "       0, 5, 6, 6, 9, 8, 1, 6, 6, 6, 1, 1, 7, 2, 1, 4, 8, 0, 6, 4, 8, 9,\n",
       "       1, 8, 5, 9, 7, 8, 2, 6, 4, 5, 1, 2, 3, 7, 0, 7, 1, 6, 2, 0, 8, 8,\n",
       "       9, 1, 7, 1, 0, 8, 3, 1, 8, 7, 7, 1, 3, 4, 5, 9, 1, 0, 9, 0, 3, 5,\n",
       "       9, 3, 4, 9, 4, 9, 7, 2, 9, 9, 5, 5, 7, 3, 0, 8, 5, 0, 7, 0, 2, 4,\n",
       "       6, 6, 6, 3, 7, 4, 2, 6, 8, 4, 4, 0, 0, 1, 4, 1, 5, 3, 1, 4, 4, 6,\n",
       "       2, 6, 5, 8, 6, 5, 1, 7, 6, 4, 1, 2, 9, 3, 1, 3, 3, 9, 0, 6, 3, 8,\n",
       "       3, 4, 7, 0, 2, 0, 3, 7, 7, 1, 2, 6, 1, 6, 9, 3, 1, 5, 7, 6, 2, 5,\n",
       "       0, 2, 8, 7, 3, 2, 6, 0, 2, 4, 5, 5, 8, 3, 4, 7, 4, 5, 1, 7, 6, 6,\n",
       "       2, 5, 3, 9, 6, 6, 7, 3, 5, 1, 4, 3, 3, 2, 2, 9, 1, 8, 2, 3, 7, 2,\n",
       "       7, 5, 5, 8, 4, 1, 4, 7, 4, 2, 3, 4, 9, 5, 9, 5, 0, 3, 2, 0, 5, 9,\n",
       "       5, 8, 1, 8, 9, 8, 0, 2, 3, 2, 3, 3, 1, 5, 6, 5, 3, 6, 7, 8, 4, 6,\n",
       "       5, 3, 0, 7, 9, 1, 1, 7, 1, 3, 6, 2, 3, 7, 5, 8, 4, 6, 4, 0, 0, 1,\n",
       "       4, 9, 2, 7, 0, 5, 1, 5, 2, 3, 8, 9, 3, 7, 5, 3, 7, 3, 3, 1, 9, 1,\n",
       "       5, 7, 5, 1, 9, 5, 6, 6, 9, 7, 4, 1, 6, 4, 4, 0, 9, 0, 5, 7, 8, 0,\n",
       "       7, 2, 9, 3, 0, 7, 1, 5, 0, 3, 6, 6, 2, 0, 9, 5, 3, 8, 4, 2, 0, 1,\n",
       "       8, 6, 2, 2, 5, 1, 0, 7, 6, 8, 8, 5, 6, 8, 2, 3, 9, 0, 0, 3, 0, 9,\n",
       "       7, 6, 4, 0, 8, 2, 4, 3, 7, 0, 0, 9, 1, 1, 8, 3, 8, 1, 7, 6, 4, 3,\n",
       "       5, 1, 8, 0, 2, 5, 2, 2, 6, 5, 7, 3, 9, 2, 9, 2, 8, 1, 2, 7, 1, 4,\n",
       "       1, 7, 9, 8, 4, 3, 2, 4, 0, 1, 1, 7, 6, 9, 8, 8, 9, 8, 2, 6, 3, 2,\n",
       "       7, 4, 1, 4, 7, 1, 3, 0, 2, 4, 8, 7, 1, 7, 9, 8, 5, 2, 7, 5, 6, 6,\n",
       "       9, 1, 2, 7, 4, 3, 0, 7, 9, 2, 7, 9, 0, 1, 6, 9, 3, 8, 5, 4, 9, 0,\n",
       "       2, 1, 5, 1, 9, 1, 8, 0, 4, 4, 7, 8, 2, 5, 6, 4, 0, 7, 0, 7, 2, 1,\n",
       "       2, 2, 0, 7, 1, 6, 0, 7, 3, 0, 5, 9, 7, 6, 6, 4, 9, 9, 7, 4, 3, 0,\n",
       "       7, 3, 4, 9, 6, 2, 8, 3, 4, 4, 1, 6, 4, 0, 6, 4, 0, 3, 6, 1, 3, 2,\n",
       "       5, 6, 3, 0, 4, 0, 1, 9, 6, 8, 3, 4, 0, 9, 5, 9, 1, 2, 2, 3, 7, 1,\n",
       "       7, 4, 3, 1, 4, 0, 8, 5, 7, 8, 2, 4, 1, 9, 6, 1, 2, 9, 9, 5, 2, 6,\n",
       "       8, 7, 6, 5, 0, 8], dtype=uint8)"
      ]
     },
     "execution_count": 38,
     "metadata": {},
     "output_type": "execute_result"
    }
   ],
   "source": [
    "%time my_clf.predict(X_test)"
   ]
  },
  {
   "cell_type": "code",
   "execution_count": 39,
   "metadata": {},
   "outputs": [
    {
     "name": "stdout",
     "output_type": "stream",
     "text": [
      "CPU times: user 52.1 s, sys: 120 ms, total: 52.3 s\n",
      "Wall time: 54.1 s\n"
     ]
    },
    {
     "data": {
      "text/plain": [
       "array([[0., 1., 0., ..., 0., 0., 0.],\n",
       "       [0., 0., 0., ..., 0., 0., 0.],\n",
       "       [0., 0., 0., ..., 0., 0., 0.],\n",
       "       ...,\n",
       "       [0., 0., 0., ..., 0., 0., 0.],\n",
       "       [1., 0., 0., ..., 0., 0., 0.],\n",
       "       [0., 0., 0., ..., 0., 1., 0.]])"
      ]
     },
     "execution_count": 39,
     "metadata": {},
     "output_type": "execute_result"
    }
   ],
   "source": [
    "%time clf.predict_proba(X_test)"
   ]
  },
  {
   "cell_type": "code",
   "execution_count": 40,
   "metadata": {},
   "outputs": [
    {
     "name": "stdout",
     "output_type": "stream",
     "text": [
      "CPU times: user 32.7 s, sys: 488 ms, total: 33.1 s\n",
      "Wall time: 33.2 s\n"
     ]
    },
    {
     "data": {
      "text/plain": [
       "array([[0., 1., 0., ..., 0., 0., 0.],\n",
       "       [0., 0., 0., ..., 0., 0., 0.],\n",
       "       [0., 0., 0., ..., 0., 0., 0.],\n",
       "       ...,\n",
       "       [0., 0., 0., ..., 0., 0., 0.],\n",
       "       [1., 0., 0., ..., 0., 0., 0.],\n",
       "       [0., 0., 0., ..., 0., 1., 0.]], dtype=float16)"
      ]
     },
     "execution_count": 40,
     "metadata": {},
     "output_type": "execute_result"
    }
   ],
   "source": [
    "%time my_clf.predict_proba(X_test)"
   ]
  },
  {
   "cell_type": "code",
   "execution_count": 41,
   "metadata": {},
   "outputs": [
    {
     "data": {
      "text/plain": [
       "0.9716666666666667"
      ]
     },
     "execution_count": 41,
     "metadata": {},
     "output_type": "execute_result"
    }
   ],
   "source": [
    "clf.score(X_test, y_test)"
   ]
  },
  {
   "cell_type": "code",
   "execution_count": 42,
   "metadata": {},
   "outputs": [
    {
     "data": {
      "text/plain": [
       "0.9716666666666667"
      ]
     },
     "execution_count": 42,
     "metadata": {},
     "output_type": "execute_result"
    }
   ],
   "source": [
    "my_clf.score(X_test, y_test)"
   ]
  },
  {
   "cell_type": "markdown",
   "metadata": {},
   "source": [
    "Задание 4"
   ]
  },
  {
   "cell_type": "code",
   "execution_count": 67,
   "metadata": {},
   "outputs": [],
   "source": [
    "clf = KNeighborsClassifier(n_neighbors=2, algorithm='kd_tree')\n",
    "my_clf = MyKNeighborsClassifier(n_neighbors=2, algorithm='kd_tree')"
   ]
  },
  {
   "cell_type": "code",
   "execution_count": 60,
   "metadata": {},
   "outputs": [],
   "source": [
    "X_train, X_test, y_train, y_test = train_test_split(mnist.data, mnist.target, test_size=0.01, stratify=mnist.target)"
   ]
  },
  {
   "cell_type": "code",
   "execution_count": 45,
   "metadata": {},
   "outputs": [
    {
     "name": "stdout",
     "output_type": "stream",
     "text": [
      "CPU times: user 22.3 s, sys: 112 ms, total: 22.4 s\n",
      "Wall time: 22.3 s\n"
     ]
    },
    {
     "data": {
      "text/plain": [
       "KNeighborsClassifier(algorithm='kd_tree', leaf_size=30, metric='minkowski',\n",
       "           metric_params=None, n_jobs=None, n_neighbors=2, p=2,\n",
       "           weights='uniform')"
      ]
     },
     "execution_count": 45,
     "metadata": {},
     "output_type": "execute_result"
    }
   ],
   "source": [
    "%time clf.fit(X_train, y_train)"
   ]
  },
  {
   "cell_type": "code",
   "execution_count": 68,
   "metadata": {},
   "outputs": [
    {
     "name": "stdout",
     "output_type": "stream",
     "text": [
      "CPU times: user 0 ns, sys: 4 ms, total: 4 ms\n",
      "Wall time: 98.5 ms\n"
     ]
    }
   ],
   "source": [
    "%time my_clf.fit(X_train, y_train)"
   ]
  },
  {
   "cell_type": "code",
   "execution_count": 47,
   "metadata": {},
   "outputs": [
    {
     "name": "stdout",
     "output_type": "stream",
     "text": [
      "CPU times: user 52.3 s, sys: 4 ms, total: 52.3 s\n",
      "Wall time: 52.3 s\n"
     ]
    },
    {
     "data": {
      "text/plain": [
       "array([1, 9, 3, 8, 7, 8, 2, 3, 0, 4, 2, 5, 0, 3, 6, 6, 4, 9, 2, 3, 5, 9,\n",
       "       5, 5, 5, 9, 4, 6, 9, 9, 1, 8, 3, 4, 2, 8, 0, 2, 4, 7, 3, 1, 4, 7,\n",
       "       4, 7, 7, 1, 1, 7, 2, 7, 3, 7, 4, 1, 9, 7, 1, 3, 1, 6, 3, 7, 6, 5,\n",
       "       6, 4, 8, 3, 7, 4, 5, 4, 0, 8, 1, 1, 0, 6, 5, 2, 1, 1, 0, 1, 9, 6,\n",
       "       4, 4, 2, 3, 8, 1, 4, 0, 6, 0, 2, 2, 9, 8, 7, 3, 1, 0, 6, 9, 8, 3,\n",
       "       1, 7, 1, 2, 8, 3, 5, 0, 0, 2, 0, 7, 7, 6, 2, 9, 0, 3, 1, 4, 7, 0,\n",
       "       9, 8, 5, 7, 3, 2, 9, 7, 7, 2, 6, 3, 1, 2, 5, 3, 3, 8, 4, 8, 3, 2,\n",
       "       1, 3, 6, 8, 3, 9, 5, 7, 0, 7, 0, 9, 7, 6, 3, 3, 0, 2, 4, 1, 3, 6,\n",
       "       9, 8, 0, 3, 5, 9, 4, 4, 9, 9, 5, 7, 4, 3, 0, 0, 4, 0, 4, 4, 9, 2,\n",
       "       1, 0, 7, 9, 0, 0, 4, 2, 0, 9, 1, 2, 7, 0, 6, 4, 5, 4, 1, 2, 7, 8,\n",
       "       8, 7, 0, 0, 3, 0, 0, 8, 4, 1, 1, 2, 5, 8, 1, 8, 8, 6, 4, 6, 1, 6,\n",
       "       1, 7, 9, 5, 0, 4, 1, 6, 6, 9, 0, 8, 0, 1, 7, 1, 3, 5, 6, 6, 2, 1,\n",
       "       4, 1, 4, 2, 1, 9, 8, 1, 5, 0, 7, 2, 2, 3, 7, 3, 4, 0, 7, 3, 7, 1,\n",
       "       8, 8, 6, 5, 0, 6, 4, 7, 1, 3, 3, 2, 2, 9, 6, 9, 6, 1, 6, 7, 4, 0,\n",
       "       6, 7, 3, 4, 1, 0, 9, 7, 4, 1, 0, 5, 2, 6, 0, 2, 6, 5, 2, 7, 3, 4,\n",
       "       7, 9, 8, 2, 0, 7, 8, 7, 5, 1, 8, 5, 1, 6, 5, 1, 7, 7, 3, 7, 5, 0,\n",
       "       7, 9, 6, 2, 1, 3, 2, 6, 0, 4, 7, 1, 4, 9, 1, 4, 9, 4, 5, 9, 5, 6,\n",
       "       4, 8, 9, 7, 8, 7, 6, 9, 5, 9, 6, 0, 1, 5, 7, 4, 9, 4, 3, 4, 6, 9,\n",
       "       9, 2, 0, 1, 2, 5, 4, 4, 8, 1, 2, 9, 4, 8, 5, 5, 7, 3, 7, 2, 3, 3,\n",
       "       9, 8, 9, 6, 0, 8, 5, 8, 3, 0, 4, 1, 2, 9, 0, 3, 4, 3, 4, 2, 6, 5,\n",
       "       9, 0, 8, 7, 3, 5, 6, 1, 6, 3, 5, 9, 9, 8, 4, 5, 7, 7, 4, 5, 6, 2,\n",
       "       3, 7, 2, 1, 4, 0, 7, 1, 8, 9, 5, 1, 3, 6, 0, 6, 4, 2, 2, 1, 2, 1,\n",
       "       9, 7, 0, 3, 8, 7, 5, 4, 1, 6, 7, 6, 3, 8, 9, 3, 6, 0, 2, 1, 3, 8,\n",
       "       1, 4, 8, 8, 8, 8, 5, 2, 2, 0, 0, 8, 7, 0, 0, 9, 6, 4, 7, 5, 6, 5,\n",
       "       6, 3, 5, 5, 1, 2, 4, 1, 4, 8, 0, 2, 3, 2, 6, 1, 3, 2, 8, 1, 3, 5,\n",
       "       3, 2, 8, 0, 6, 2, 5, 0, 9, 0, 0, 9, 6, 3, 1, 2, 3, 4, 8, 2, 2, 5,\n",
       "       5, 5, 1, 8, 6, 7, 2, 7, 3, 9, 5, 8, 1, 7, 9, 5, 2, 8, 2, 9, 6, 8,\n",
       "       7, 5, 6, 9, 3, 6], dtype=uint8)"
      ]
     },
     "execution_count": 47,
     "metadata": {},
     "output_type": "execute_result"
    }
   ],
   "source": [
    "%time clf.predict(X_test)"
   ]
  },
  {
   "cell_type": "code",
   "execution_count": 69,
   "metadata": {},
   "outputs": [
    {
     "name": "stdout",
     "output_type": "stream",
     "text": [
      "CPU times: user 1min 8s, sys: 360 ms, total: 1min 9s\n",
      "Wall time: 1min 9s\n"
     ]
    },
    {
     "data": {
      "text/plain": [
       "array([1, 9, 3, 8, 7, 8, 2, 3, 0, 4, 2, 5, 0, 3, 6, 6, 4, 9, 2, 3, 5, 9,\n",
       "       5, 5, 5, 9, 4, 6, 9, 9, 1, 8, 3, 4, 2, 8, 0, 2, 4, 7, 3, 1, 4, 7,\n",
       "       4, 7, 7, 1, 1, 7, 2, 7, 3, 7, 4, 1, 9, 7, 1, 3, 1, 6, 3, 7, 6, 5,\n",
       "       6, 4, 8, 3, 7, 4, 5, 4, 0, 8, 1, 1, 0, 6, 5, 2, 1, 1, 0, 1, 9, 6,\n",
       "       4, 4, 2, 3, 8, 1, 4, 0, 6, 0, 2, 2, 9, 8, 7, 3, 1, 0, 6, 9, 8, 3,\n",
       "       1, 7, 1, 2, 8, 3, 5, 0, 0, 2, 0, 7, 7, 6, 2, 9, 0, 3, 1, 4, 7, 0,\n",
       "       9, 8, 5, 7, 3, 2, 9, 7, 7, 2, 6, 3, 1, 2, 5, 3, 3, 8, 4, 8, 3, 2,\n",
       "       1, 3, 6, 8, 3, 9, 5, 7, 0, 7, 0, 9, 7, 6, 3, 3, 0, 2, 4, 1, 3, 6,\n",
       "       9, 8, 0, 3, 5, 9, 4, 4, 9, 9, 5, 7, 4, 3, 0, 0, 4, 0, 4, 4, 9, 2,\n",
       "       1, 0, 7, 9, 0, 0, 4, 2, 0, 9, 1, 2, 7, 0, 6, 4, 5, 4, 1, 2, 7, 8,\n",
       "       8, 7, 0, 0, 3, 0, 0, 8, 4, 1, 1, 2, 5, 8, 1, 8, 8, 6, 4, 6, 1, 6,\n",
       "       1, 7, 9, 5, 0, 4, 1, 6, 6, 9, 0, 8, 0, 1, 7, 1, 3, 5, 6, 6, 2, 1,\n",
       "       4, 1, 4, 2, 1, 9, 8, 1, 5, 0, 7, 2, 2, 3, 7, 3, 4, 0, 7, 3, 7, 1,\n",
       "       8, 8, 6, 5, 0, 6, 4, 7, 1, 3, 3, 2, 2, 9, 6, 9, 6, 1, 6, 7, 4, 0,\n",
       "       6, 7, 3, 4, 1, 0, 9, 7, 4, 1, 0, 5, 2, 6, 0, 2, 6, 5, 2, 7, 3, 4,\n",
       "       7, 9, 8, 2, 0, 7, 8, 7, 5, 1, 8, 5, 1, 6, 5, 1, 7, 7, 3, 7, 5, 0,\n",
       "       7, 9, 6, 2, 1, 3, 2, 6, 0, 4, 7, 1, 4, 9, 1, 4, 9, 4, 5, 9, 5, 6,\n",
       "       4, 8, 9, 7, 8, 7, 6, 9, 5, 9, 6, 0, 1, 5, 7, 4, 9, 4, 3, 4, 6, 9,\n",
       "       9, 2, 0, 1, 2, 5, 4, 4, 8, 1, 2, 9, 4, 8, 5, 5, 7, 3, 7, 2, 3, 3,\n",
       "       9, 8, 9, 6, 0, 8, 5, 8, 3, 0, 4, 1, 2, 9, 0, 3, 4, 3, 4, 2, 6, 5,\n",
       "       9, 0, 8, 7, 3, 5, 6, 1, 6, 3, 5, 9, 9, 8, 4, 5, 7, 7, 4, 5, 6, 2,\n",
       "       3, 7, 2, 1, 4, 0, 7, 1, 8, 9, 5, 1, 3, 6, 0, 6, 4, 2, 2, 1, 2, 1,\n",
       "       9, 7, 0, 3, 8, 7, 5, 4, 1, 6, 7, 6, 3, 8, 9, 3, 6, 0, 2, 1, 3, 8,\n",
       "       1, 4, 8, 8, 8, 8, 5, 2, 2, 0, 0, 8, 7, 0, 0, 9, 6, 4, 7, 5, 6, 5,\n",
       "       6, 3, 5, 5, 1, 2, 4, 1, 4, 8, 0, 2, 3, 2, 6, 1, 3, 2, 8, 1, 3, 5,\n",
       "       3, 2, 8, 0, 6, 2, 5, 0, 9, 0, 0, 9, 6, 3, 1, 2, 3, 4, 8, 2, 2, 5,\n",
       "       5, 5, 1, 8, 6, 7, 2, 7, 3, 9, 5, 8, 1, 7, 9, 5, 2, 8, 2, 9, 6, 8,\n",
       "       7, 5, 6, 9, 3, 6], dtype=uint8)"
      ]
     },
     "execution_count": 69,
     "metadata": {},
     "output_type": "execute_result"
    }
   ],
   "source": [
    "%time my_clf.predict(X_test)"
   ]
  },
  {
   "cell_type": "code",
   "execution_count": 49,
   "metadata": {},
   "outputs": [
    {
     "name": "stdout",
     "output_type": "stream",
     "text": [
      "CPU times: user 53 s, sys: 4 ms, total: 53 s\n",
      "Wall time: 53 s\n"
     ]
    },
    {
     "data": {
      "text/plain": [
       "array([[0., 1., 0., ..., 0., 0., 0.],\n",
       "       [0., 0., 0., ..., 0., 0., 1.],\n",
       "       [0., 0., 0., ..., 0., 0., 0.],\n",
       "       ...,\n",
       "       [0., 0., 0., ..., 0., 0., 1.],\n",
       "       [0., 0., 0., ..., 0., 0., 0.],\n",
       "       [0., 0., 0., ..., 0., 0., 0.]])"
      ]
     },
     "execution_count": 49,
     "metadata": {},
     "output_type": "execute_result"
    }
   ],
   "source": [
    "%time clf.predict_proba(X_test)"
   ]
  },
  {
   "cell_type": "code",
   "execution_count": 70,
   "metadata": {},
   "outputs": [
    {
     "name": "stdout",
     "output_type": "stream",
     "text": [
      "CPU times: user 1min 10s, sys: 244 ms, total: 1min 10s\n",
      "Wall time: 1min 10s\n"
     ]
    },
    {
     "data": {
      "text/plain": [
       "array([[0., 1., 0., ..., 0., 0., 0.],\n",
       "       [0., 0., 0., ..., 0., 0., 1.],\n",
       "       [0., 0., 0., ..., 0., 0., 0.],\n",
       "       ...,\n",
       "       [0., 0., 0., ..., 0., 0., 1.],\n",
       "       [0., 0., 0., ..., 0., 0., 0.],\n",
       "       [0., 0., 0., ..., 0., 0., 0.]], dtype=float16)"
      ]
     },
     "execution_count": 70,
     "metadata": {},
     "output_type": "execute_result"
    }
   ],
   "source": [
    "%time my_clf.predict_proba(X_test)"
   ]
  },
  {
   "cell_type": "code",
   "execution_count": 51,
   "metadata": {},
   "outputs": [
    {
     "data": {
      "text/plain": [
       "0.9766666666666667"
      ]
     },
     "execution_count": 51,
     "metadata": {},
     "output_type": "execute_result"
    }
   ],
   "source": [
    "clf.score(X_test, y_test)"
   ]
  },
  {
   "cell_type": "code",
   "execution_count": 71,
   "metadata": {},
   "outputs": [
    {
     "data": {
      "text/plain": [
       "0.9766666666666667"
      ]
     },
     "execution_count": 71,
     "metadata": {},
     "output_type": "execute_result"
    }
   ],
   "source": [
    "my_clf.score(X_test, y_test)"
   ]
  },
  {
   "cell_type": "markdown",
   "metadata": {},
   "source": [
    "Задание 5"
   ]
  },
  {
   "cell_type": "code",
   "execution_count": null,
   "metadata": {},
   "outputs": [],
   "source": [
    "# seaborn  - визуализация данных\n",
    "# matplotlib - визуализация данных\n",
    "# train_test_split - разделение даннах на трейн и тест(на трейне будет обучение, на тесте будет оценка)\n",
    "# Pipelin%load_ext e (from sklearn.pipeline import Pipeline) - позволяет создавать очереди выполнения функций(как конвеер)\n",
    "# StandardScaler (from sklearn.preprocessing import StandardScaler) нормализует данные к диапазону [-1,1]\n",
    "# ClassifierMixin позволяет объединять предсказания разных моделей\n",
    "# NeighborsBase основана на методе ближайших соседей\n",
    "# KNeighborsMixin позволяет совмещать разные модели kneghbors\n",
    "# SupervisedIntegerMixin выполняет работу по проверке типов, а затем вызывает метод fit  NeighborsBase"
   ]
  }
 ],
 "metadata": {
  "kernelspec": {
   "display_name": "Python 3",
   "language": "python",
   "name": "python3"
  },
  "language_info": {
   "codemirror_mode": {
    "name": "ipython",
    "version": 3
   },
   "file_extension": ".py",
   "mimetype": "text/x-python",
   "name": "python",
   "nbconvert_exporter": "python",
   "pygments_lexer": "ipython3",
   "version": "3.5.2"
  }
 },
 "nbformat": 4,
 "nbformat_minor": 2
}
