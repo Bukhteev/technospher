{
 "cells": [
  {
   "cell_type": "markdown",
   "metadata": {},
   "source": [
    "**Общая информация**\n",
    "\n",
    "**Срок сдачи:** 20 марта 2019, 06:00 <br\\>\n",
    "**Штраф за опоздание:** -1 балл после 06:00 20 марта, -2 балла после 06:00 27 марта, -3 балла после 06:00 3 апреля\n",
    "\n",
    "При отправлении ДЗ указывайте фамилию в названии файла\n",
    "Присылать ДЗ необходимо в виде ссылки на свой github репозиторий в slack @alkhamush\n",
    "\n",
    "Необходимо в slack скинуть ссылку в личный чат @alkhamush\n",
    "Пример ссылки:\n",
    "https://github.com/stroykova/spheremailru/stroykova_hw1.ipynb \n",
    "\n",
    "\n",
    "Используйте данный Ipython Notebook при оформлении домашнего задания."
   ]
  },
  {
   "cell_type": "markdown",
   "metadata": {},
   "source": [
    "###### Задание 1 (2 баллов)\n",
    "Реализовать KNN в классе MyKNeighborsClassifier (обязательное условие: точность не ниже sklearn реализации)\n",
    "Разберитесь самостоятельно, какая мера расстояния используется в KNeighborsClassifier дефолтно и реализуйте свой алгоритм именно с этой мерой. Самостоятельно разберитесь, как считается score из KNeighborsClassifier и реализуйте аналог в своём классе. Score не должен уступать значению KNN из sklearn\n",
    "\n",
    "###### Задание 2 (2 балла)\n",
    "Добиться скорости работы на fit,  predict и predict_proba сравнимой со sklearn для iris и mnist\n",
    "Для этого используем numpy\n",
    "\n",
    "###### Задание 3 (2 балла)\n",
    "Для iris найдите такой параметр n_neighbors, при котором выдаётся наилучший score. Нарисуйте график зависимости score от n_neighbors\n",
    "\n",
    "###### Задание 4 (3 балла)\n",
    "Добавить algorithm='kd_tree' в реализацию KNN (использовать KDTree из sklearn.neighbors). Значение n_neighbors нужно взять из задания 3. Добиться скорости работы на fit,  predict и predict_proba сравнимой со sklearn для iris и mnist\n",
    "Для этого используем numpy. Score не должен уступать значению KNN из sklearn\n",
    "\n",
    "###### Задание 5 (1 балла)\n",
    "Описать для чего нужны следующие библиотеки/классы/функции (список будет ниже)\n",
    "\n",
    "**Штрафные баллы:**\n",
    "\n",
    "1. Невыполнение PEP8 -1 балл\n",
    "2. Отсутствие фамилии в имени скрипта (скрипт должен называться по аналогии со stroykova_hw1.ipynb) -1 балл\n",
    "3. Все строчки должны быть выполнены. Нужно, чтобы output команды можно было увидеть уже в git'е. В противном случае -1 балл\n",
    "4. При оформлении ДЗ нужно пользоваться данным файлом в качестве шаблона. Не нужно удалять и видоизменять структуру кода и текст. В противном случае -1 балл\n"
   ]
  },
  {
   "cell_type": "code",
   "execution_count": 2,
   "metadata": {},
   "outputs": [],
   "source": [
    "import numpy as np\n",
    "import matplotlib.pyplot as plt\n",
    "\n",
    "import seaborn as sns\n",
    "from sklearn import datasets\n",
    "from sklearn.base import ClassifierMixin\n",
    "from sklearn.datasets import fetch_mldata\n",
    "from sklearn.neighbors.base import NeighborsBase, KNeighborsMixin, SupervisedIntegerMixin \n",
    "from sklearn.model_selection import train_test_split\n",
    "from sklearn.neighbors import KNeighborsClassifier\n",
    "%load_ext pycodestyle_magic"
   ]
  },
  {
   "cell_type": "markdown",
   "metadata": {},
   "source": [
    "Реализовать KNN в классе MyKNeighborsClassifier (обязательное условие: точность не ниже sklearn реализации) Разберитесь самостоятельно, какая мера расстояния используется в KNeighborsClassifier дефолтно и реализуйте свой алгоритм именно с этой мерой. Самостоятельно разберитесь, как считается score из KNeighborsClassifier и реализуйте аналог в своём классе. Score не должен уступать значению KNN из sklearn\n",
    "\n"
   ]
  },
  {
   "cell_type": "code",
   "execution_count": 536,
   "metadata": {},
   "outputs": [
    {
     "ename": "SyntaxError",
     "evalue": "invalid syntax (<ipython-input-536-a07da4af5491>, line 35)",
     "output_type": "error",
     "traceback": [
      "\u001b[0;36m  File \u001b[0;32m\"<ipython-input-536-a07da4af5491>\"\u001b[0;36m, line \u001b[0;32m35\u001b[0m\n\u001b[0;31m    dist_to_nighb = np.sum(np.abs(self.x_tr_sq + X[i, :]**2.reshape(1,-1) - 2 * self.x_tr * X[i, :]), axis=1)\u001b[0m\n\u001b[0m                                                                  ^\u001b[0m\n\u001b[0;31mSyntaxError\u001b[0m\u001b[0;31m:\u001b[0m invalid syntax\n"
     ]
    }
   ],
   "source": [
    "# %%pycodestyle\n",
    "\n",
    "\n",
    "class MyKNeighborsClassifier(NeighborsBase, KNeighborsMixin,\n",
    "                             SupervisedIntegerMixin, ClassifierMixin):\n",
    "\n",
    "    def __init__(self, n_neighbors, algorithm='brute'):\n",
    "\n",
    "        self.n_neighbors = n_neighbors\n",
    "        self.algorithm = algorithm\n",
    "\n",
    "    def fit(self, X, y):\n",
    "        # nothing\n",
    "        self.y_tr = y\n",
    "        self.x_tr = X\n",
    "        self.x_tr_sq = X**2\n",
    "        self.n_class = np.max(y)+1\n",
    "    \n",
    "\n",
    "    def predict(self, X):\n",
    "        Ypred = np.zeros(len(X), dtype=self.y_tr.dtype)\n",
    "        for i in range(len(X)):\n",
    "            dist_to_nighb = np.sum(np.abs(self.x_tr_sq + X[i, :]**2 - 2 * self.x_tr * X[i, :]), axis=1)\n",
    "            i_min = np.argmin(dist_to_nighb)\n",
    "# get the index with smallest distance\n",
    "            Ypred[i] = self.y_tr[i_min]\n",
    "        return Ypred\n",
    "\n",
    "    def predict_proba(self, X):\n",
    "        Y_pred_prob = np.zeros((len(X), self.n_class))\n",
    "        \n",
    "        for i in range(len(X)):\n",
    "#             zer = np.zerod(self.n_class)\n",
    "\n",
    "            dist_to_nighb = np.sum(np.abs(self.x_tr_sq + X[i, :]**2.reshape(1,-1) - 2 * self.x_tr * X[i, :]), axis=1)\n",
    "            i_min = self.y_tr[np.argsort(dist_to_nighb)[:self.n_neighbors]]\n",
    "            for q in i_min:\n",
    "                Y_pred_prob[i][q] += 1 \n",
    "            \n",
    "            Y_pred_prob[i] = Y_pred_prob[i]/np.sum(Y_pred_prob[i])\n",
    "#             dist_to_nighb = np.argsort(dist_to_nighb)[:, :self._n_neighbors]\n",
    "            \n",
    "        return Y_pred_prob\n",
    "#         pass\n",
    "\n",
    "    def score(self, X, y):\n",
    "        return (self.predict(X) == y).mean()"
   ]
  },
  {
   "cell_type": "markdown",
   "metadata": {},
   "source": [
    "**IRIS**"
   ]
  },
  {
   "cell_type": "code",
   "execution_count": 5,
   "metadata": {},
   "outputs": [],
   "source": [
    "iris = datasets.load_iris()"
   ]
  },
  {
   "cell_type": "code",
   "execution_count": 6,
   "metadata": {},
   "outputs": [],
   "source": [
    "X_train, X_test, y_train, y_test = train_test_split(iris.data, iris.target, test_size=0.1, stratify=iris.target)"
   ]
  },
  {
   "cell_type": "code",
   "execution_count": 566,
   "metadata": {},
   "outputs": [
    {
     "data": {
      "text/plain": [
       "array([[31.62,  7.  , 14.4 ,  1.98],\n",
       "       [39.06,  9.24, 22.56,  2.88],\n",
       "       [39.06,  7.  , 23.52,  2.7 ],\n",
       "       [29.76,  8.4 ,  6.72,  0.18],\n",
       "       [39.06,  6.44, 21.12,  2.34],\n",
       "       [34.1 ,  7.28, 21.12,  2.16],\n",
       "       [28.52,  8.68,  7.2 ,  0.36],\n",
       "       [45.26,  8.12, 30.24,  3.24],\n",
       "       [40.3 ,  8.4 , 27.84,  3.96],\n",
       "       [29.76,  8.4 ,  6.72,  0.54],\n",
       "       [31.62, 10.36,  7.2 ,  0.72],\n",
       "       [28.52, 10.08,  4.8 ,  0.36],\n",
       "       [36.58,  8.4 , 24.48,  3.24],\n",
       "       [35.34,  7.84, 19.68,  2.34],\n",
       "       [37.2 ,  6.16, 24.  ,  2.7 ],\n",
       "       [38.44,  8.12, 20.64,  2.34],\n",
       "       [39.06,  7.  , 24.  ,  3.42],\n",
       "       [31.  ,  6.44, 15.84,  1.8 ],\n",
       "       [33.48, 10.92,  8.16,  0.72],\n",
       "       [36.58,  8.4 , 20.16,  2.7 ],\n",
       "       [41.54,  8.4 , 24.  ,  3.06],\n",
       "       [44.64, 10.08, 29.28,  4.5 ],\n",
       "       [47.74,  7.28, 33.12,  4.14],\n",
       "       [42.78,  8.68, 25.92,  3.78],\n",
       "       [44.02,  8.4 , 28.32,  3.78],\n",
       "       [30.38,  8.68,  7.2 ,  0.18],\n",
       "       [44.64,  8.96, 28.8 ,  3.24],\n",
       "       [30.38,  6.72, 15.84,  1.8 ],\n",
       "       [35.96,  7.56, 18.72,  2.16],\n",
       "       [26.66,  8.4 ,  5.28,  0.18],\n",
       "       [35.96,  7.28, 19.2 ,  2.16],\n",
       "       [40.3 ,  8.96, 24.48,  3.6 ],\n",
       "       [35.96,  7.56, 19.68,  1.8 ],\n",
       "       [31.  , 10.08,  6.72,  0.36],\n",
       "       [34.72,  7.56, 20.16,  2.34],\n",
       "       [47.74,  7.84, 32.16,  3.6 ],\n",
       "       [34.1 ,  7.  , 19.2 ,  2.34],\n",
       "       [34.72,  8.12, 17.28,  2.34],\n",
       "       [42.78,  8.96, 27.36,  4.14],\n",
       "       [34.72,  8.4 , 19.68,  2.34],\n",
       "       [30.38,  7.  , 21.6 ,  3.06],\n",
       "       [35.34, 12.32,  7.2 ,  0.72],\n",
       "       [28.52,  8.96,  6.72,  0.36],\n",
       "       [43.4 ,  8.96, 22.56,  2.52],\n",
       "       [32.24,  9.8 ,  7.2 ,  0.36],\n",
       "       [33.48,  8.4 , 21.6 ,  2.7 ],\n",
       "       [34.72,  8.4 , 21.6 ,  2.7 ],\n",
       "       [31.  ,  9.52,  7.68,  0.72],\n",
       "       [39.68,  7.56, 25.44,  3.42],\n",
       "       [41.54,  7.  , 27.84,  3.24],\n",
       "       [31.62, 10.64,  7.68,  0.36],\n",
       "       [35.34,  8.12, 20.16,  2.34],\n",
       "       [41.54,  9.24, 27.36,  4.5 ],\n",
       "       [41.54,  9.24, 27.36,  3.78],\n",
       "       [35.34, 10.64,  8.16,  0.54],\n",
       "       [34.72,  7.84, 23.52,  3.6 ],\n",
       "       [47.12,  8.4 , 31.68,  3.78],\n",
       "       [31.  ,  9.8 ,  7.68,  1.08],\n",
       "       [32.24,  7.56, 18.72,  2.52],\n",
       "       [42.78,  8.68, 23.52,  2.7 ],\n",
       "       [40.3 ,  8.4 , 26.4 ,  3.24],\n",
       "       [35.96,  7.56, 24.48,  3.42],\n",
       "       [34.1 , 11.76,  6.72,  0.36],\n",
       "       [34.72,  7.  , 18.72,  1.98],\n",
       "       [34.1 ,  9.8 ,  6.24,  0.36],\n",
       "       [37.82,  7.84, 19.2 ,  2.34],\n",
       "       [44.64,  8.4 , 27.84,  2.88],\n",
       "       [41.54,  8.4 , 24.96,  4.14],\n",
       "       [33.48, 10.92,  6.24,  0.72],\n",
       "       [39.06,  7.56, 23.52,  3.24],\n",
       "       [31.62,  9.8 ,  6.72,  0.36],\n",
       "       [33.48,  9.52,  7.2 ,  0.72],\n",
       "       [40.92,  8.12, 22.08,  2.34],\n",
       "       [39.68,  7.84, 26.88,  3.96],\n",
       "       [35.96,  7.84, 24.48,  4.32],\n",
       "       [28.52,  9.52,  6.72,  0.54],\n",
       "       [37.82,  8.4 , 23.52,  3.24],\n",
       "       [30.38,  8.68,  7.2 ,  0.36],\n",
       "       [45.88,  7.84, 29.28,  3.42],\n",
       "       [41.54,  8.68, 21.12,  2.52],\n",
       "       [40.3 ,  7.84, 22.08,  2.7 ],\n",
       "       [34.1 ,  6.72, 17.76,  1.8 ],\n",
       "       [36.58,  8.96, 23.04,  3.24],\n",
       "       [42.16,  8.4 , 26.4 ,  3.78],\n",
       "       [40.3 ,  8.4 , 24.96,  3.6 ],\n",
       "       [32.24,  9.52,  6.72,  0.36],\n",
       "       [37.2 ,  8.12, 21.6 ,  2.7 ],\n",
       "       [39.06,  9.52, 26.88,  4.32],\n",
       "       [42.16,  8.96, 28.32,  4.14],\n",
       "       [35.96, 11.2 ,  5.76,  0.36],\n",
       "       [31.62, 10.64,  7.2 ,  0.54],\n",
       "       [31.62,  9.52,  7.2 ,  0.36],\n",
       "       [37.82,  7.84, 22.56,  2.16],\n",
       "       [29.14,  8.96,  7.68,  0.36],\n",
       "       [31.  ,  9.52,  7.2 ,  0.36],\n",
       "       [37.82,  8.4 , 22.08,  2.52],\n",
       "       [38.44,  9.52, 25.92,  4.14],\n",
       "       [41.54,  8.68, 22.56,  2.7 ],\n",
       "       [31.62,  9.24,  8.16,  0.9 ],\n",
       "       [39.06,  9.24, 28.8 ,  4.5 ],\n",
       "       [35.34,  7.84, 21.6 ,  2.34],\n",
       "       [39.68,  8.68, 26.4 ,  3.24],\n",
       "       [47.74,  8.4 , 29.28,  4.14],\n",
       "       [48.98, 10.64, 30.72,  3.6 ],\n",
       "       [27.9 ,  6.44,  6.24,  0.54],\n",
       "       [37.82,  8.12, 22.56,  2.52],\n",
       "       [39.68,  8.96, 25.44,  4.14],\n",
       "       [29.14,  8.96,  6.24,  0.36],\n",
       "       [31.  ,  9.8 ,  6.24,  0.54],\n",
       "       [31.62, 10.64,  9.12,  0.72],\n",
       "       [41.54,  8.68, 26.88,  4.32],\n",
       "       [30.38, 10.08,  6.72,  0.18],\n",
       "       [40.92,  8.4 , 21.12,  2.52],\n",
       "       [29.76,  9.52,  7.68,  0.36],\n",
       "       [34.1 ,  6.44, 19.2 ,  2.34],\n",
       "       [37.2 ,  7.56, 24.48,  2.88],\n",
       "       [27.28,  8.12,  6.72,  0.36],\n",
       "       [39.68,  7.84, 26.88,  3.78],\n",
       "       [34.1 ,  6.72, 18.24,  1.98],\n",
       "       [32.24, 11.48,  7.2 ,  0.18],\n",
       "       [30.38,  8.4 ,  6.72,  0.36],\n",
       "       [31.  ,  9.24,  6.72,  0.36],\n",
       "       [37.82,  7.28, 26.88,  2.52],\n",
       "       [35.34,  8.4 , 20.16,  2.16],\n",
       "       [33.48, 10.36,  7.2 ,  0.36],\n",
       "       [39.68,  8.96, 21.6 ,  2.7 ],\n",
       "       [31.62,  9.8 ,  6.72,  0.54],\n",
       "       [27.28,  8.96,  6.24,  0.36],\n",
       "       [35.34,  7.  , 24.  ,  3.6 ],\n",
       "       [47.74, 10.64, 32.16,  3.96],\n",
       "       [37.2 ,  9.52, 21.6 ,  2.88],\n",
       "       [31.  ,  8.4 ,  7.68,  0.36],\n",
       "       [39.68,  8.12, 20.64,  2.34],\n",
       "       [33.48,  9.52,  8.16,  0.36],\n",
       "       [39.06,  7.84, 24.48,  2.7 ]])"
      ]
     },
     "execution_count": 566,
     "metadata": {},
     "output_type": "execute_result"
    }
   ],
   "source": [
    "X_train * X_test[1]"
   ]
  },
  {
   "cell_type": "code",
   "execution_count": 565,
   "metadata": {},
   "outputs": [
    {
     "data": {
      "text/plain": [
       "array([55.  , 73.74, 72.28, 45.06, 68.96, 64.66, 44.76, 86.86, 80.5 ,\n",
       "       45.42, 49.9 , 43.76, 72.7 , 65.2 , 70.06, 69.54, 73.48, 55.08,\n",
       "       53.28, 67.84, 77.  , 88.5 , 92.28, 81.16, 84.52, 46.44, 85.64,\n",
       "       54.74, 64.4 , 40.52, 64.6 , 77.34, 65.  , 48.16, 64.78, 91.34,\n",
       "       62.64, 62.46, 83.24, 65.14, 62.04, 55.58, 44.56, 77.44, 49.6 ,\n",
       "       66.18, 67.42, 48.92, 76.1 , 79.62, 50.3 , 65.96, 82.64, 81.92,\n",
       "       54.68, 69.68, 90.98, 49.56, 61.04, 77.68, 78.34, 71.42, 52.94,\n",
       "       62.42, 50.5 , 67.2 , 83.76, 79.04, 51.36, 73.38, 48.5 , 50.92,\n",
       "       73.46, 78.36, 72.6 , 45.3 , 72.98, 46.62, 86.42, 73.86, 72.92,\n",
       "       60.38, 71.82, 80.74, 77.26, 48.84, 69.62, 79.78, 83.58, 53.28,\n",
       "       50.  , 48.7 , 70.38, 46.14, 48.08, 70.82, 78.02, 75.48, 49.92,\n",
       "       81.6 , 67.12, 78.  , 89.56, 93.94, 41.12, 71.02, 78.22, 44.7 ,\n",
       "       47.58, 52.1 , 81.42, 47.36, 72.96, 47.32, 62.08, 72.12, 42.48,\n",
       "       78.18, 61.04, 51.1 , 45.86, 47.32, 74.5 , 66.06, 51.4 , 72.94,\n",
       "       48.68, 42.84, 69.94, 94.5 , 71.2 , 47.44, 70.78, 51.52, 74.08])"
      ]
     },
     "execution_count": 565,
     "metadata": {},
     "output_type": "execute_result"
    }
   ],
   "source": [
    "np.dot(X_train,X_test[1])"
   ]
  },
  {
   "cell_type": "code",
   "execution_count": 555,
   "metadata": {},
   "outputs": [
    {
     "data": {
      "text/plain": [
       "array([[31.62, 11.22, 22.95,  7.65],\n",
       "       [15.5 ,  5.5 , 11.25,  3.75],\n",
       "       [18.6 ,  6.6 , 13.5 ,  4.5 ],\n",
       "       ...,\n",
       "       [17.36,  6.16, 12.6 ,  4.2 ],\n",
       "       [31.62, 11.22, 22.95,  7.65],\n",
       "       [ 9.3 ,  3.3 ,  6.75,  2.25]])"
      ]
     },
     "execution_count": 555,
     "metadata": {},
     "output_type": "execute_result"
    }
   ],
   "source": [
    "np.dot(X_train.reshape(1,-1).T , X_test.reshape(1,4))"
   ]
  },
  {
   "cell_type": "code",
   "execution_count": 549,
   "metadata": {},
   "outputs": [
    {
     "data": {
      "text/plain": [
       "array([[31.62,  5.5 , 13.5 ,  1.65],\n",
       "       [39.06,  7.26, 21.15,  2.4 ],\n",
       "       [39.06,  5.5 , 22.05,  2.25],\n",
       "       [29.76,  6.6 ,  6.3 ,  0.15],\n",
       "       [39.06,  5.06, 19.8 ,  1.95],\n",
       "       [34.1 ,  5.72, 19.8 ,  1.8 ],\n",
       "       [28.52,  6.82,  6.75,  0.3 ],\n",
       "       [45.26,  6.38, 28.35,  2.7 ],\n",
       "       [40.3 ,  6.6 , 26.1 ,  3.3 ],\n",
       "       [29.76,  6.6 ,  6.3 ,  0.45],\n",
       "       [31.62,  8.14,  6.75,  0.6 ],\n",
       "       [28.52,  7.92,  4.5 ,  0.3 ],\n",
       "       [36.58,  6.6 , 22.95,  2.7 ],\n",
       "       [35.34,  6.16, 18.45,  1.95],\n",
       "       [37.2 ,  4.84, 22.5 ,  2.25],\n",
       "       [38.44,  6.38, 19.35,  1.95],\n",
       "       [39.06,  5.5 , 22.5 ,  2.85],\n",
       "       [31.  ,  5.06, 14.85,  1.5 ],\n",
       "       [33.48,  8.58,  7.65,  0.6 ],\n",
       "       [36.58,  6.6 , 18.9 ,  2.25],\n",
       "       [41.54,  6.6 , 22.5 ,  2.55],\n",
       "       [44.64,  7.92, 27.45,  3.75],\n",
       "       [47.74,  5.72, 31.05,  3.45],\n",
       "       [42.78,  6.82, 24.3 ,  3.15],\n",
       "       [44.02,  6.6 , 26.55,  3.15],\n",
       "       [30.38,  6.82,  6.75,  0.15],\n",
       "       [44.64,  7.04, 27.  ,  2.7 ],\n",
       "       [30.38,  5.28, 14.85,  1.5 ],\n",
       "       [35.96,  5.94, 17.55,  1.8 ],\n",
       "       [26.66,  6.6 ,  4.95,  0.15],\n",
       "       [35.96,  5.72, 18.  ,  1.8 ],\n",
       "       [40.3 ,  7.04, 22.95,  3.  ],\n",
       "       [35.96,  5.94, 18.45,  1.5 ],\n",
       "       [31.  ,  7.92,  6.3 ,  0.3 ],\n",
       "       [34.72,  5.94, 18.9 ,  1.95],\n",
       "       [47.74,  6.16, 30.15,  3.  ],\n",
       "       [34.1 ,  5.5 , 18.  ,  1.95],\n",
       "       [34.72,  6.38, 16.2 ,  1.95],\n",
       "       [42.78,  7.04, 25.65,  3.45],\n",
       "       [34.72,  6.6 , 18.45,  1.95],\n",
       "       [30.38,  5.5 , 20.25,  2.55],\n",
       "       [35.34,  9.68,  6.75,  0.6 ],\n",
       "       [28.52,  7.04,  6.3 ,  0.3 ],\n",
       "       [43.4 ,  7.04, 21.15,  2.1 ],\n",
       "       [32.24,  7.7 ,  6.75,  0.3 ],\n",
       "       [33.48,  6.6 , 20.25,  2.25],\n",
       "       [34.72,  6.6 , 20.25,  2.25],\n",
       "       [31.  ,  7.48,  7.2 ,  0.6 ],\n",
       "       [39.68,  5.94, 23.85,  2.85],\n",
       "       [41.54,  5.5 , 26.1 ,  2.7 ],\n",
       "       [31.62,  8.36,  7.2 ,  0.3 ],\n",
       "       [35.34,  6.38, 18.9 ,  1.95],\n",
       "       [41.54,  7.26, 25.65,  3.75],\n",
       "       [41.54,  7.26, 25.65,  3.15],\n",
       "       [35.34,  8.36,  7.65,  0.45],\n",
       "       [34.72,  6.16, 22.05,  3.  ],\n",
       "       [47.12,  6.6 , 29.7 ,  3.15],\n",
       "       [31.  ,  7.7 ,  7.2 ,  0.9 ],\n",
       "       [32.24,  5.94, 17.55,  2.1 ],\n",
       "       [42.78,  6.82, 22.05,  2.25],\n",
       "       [40.3 ,  6.6 , 24.75,  2.7 ],\n",
       "       [35.96,  5.94, 22.95,  2.85],\n",
       "       [34.1 ,  9.24,  6.3 ,  0.3 ],\n",
       "       [34.72,  5.5 , 17.55,  1.65],\n",
       "       [34.1 ,  7.7 ,  5.85,  0.3 ],\n",
       "       [37.82,  6.16, 18.  ,  1.95],\n",
       "       [44.64,  6.6 , 26.1 ,  2.4 ],\n",
       "       [41.54,  6.6 , 23.4 ,  3.45],\n",
       "       [33.48,  8.58,  5.85,  0.6 ],\n",
       "       [39.06,  5.94, 22.05,  2.7 ],\n",
       "       [31.62,  7.7 ,  6.3 ,  0.3 ],\n",
       "       [33.48,  7.48,  6.75,  0.6 ],\n",
       "       [40.92,  6.38, 20.7 ,  1.95],\n",
       "       [39.68,  6.16, 25.2 ,  3.3 ],\n",
       "       [35.96,  6.16, 22.95,  3.6 ],\n",
       "       [28.52,  7.48,  6.3 ,  0.45],\n",
       "       [37.82,  6.6 , 22.05,  2.7 ],\n",
       "       [30.38,  6.82,  6.75,  0.3 ],\n",
       "       [45.88,  6.16, 27.45,  2.85],\n",
       "       [41.54,  6.82, 19.8 ,  2.1 ],\n",
       "       [40.3 ,  6.16, 20.7 ,  2.25],\n",
       "       [34.1 ,  5.28, 16.65,  1.5 ],\n",
       "       [36.58,  7.04, 21.6 ,  2.7 ],\n",
       "       [42.16,  6.6 , 24.75,  3.15],\n",
       "       [40.3 ,  6.6 , 23.4 ,  3.  ],\n",
       "       [32.24,  7.48,  6.3 ,  0.3 ],\n",
       "       [37.2 ,  6.38, 20.25,  2.25],\n",
       "       [39.06,  7.48, 25.2 ,  3.6 ],\n",
       "       [42.16,  7.04, 26.55,  3.45],\n",
       "       [35.96,  8.8 ,  5.4 ,  0.3 ],\n",
       "       [31.62,  8.36,  6.75,  0.45],\n",
       "       [31.62,  7.48,  6.75,  0.3 ],\n",
       "       [37.82,  6.16, 21.15,  1.8 ],\n",
       "       [29.14,  7.04,  7.2 ,  0.3 ],\n",
       "       [31.  ,  7.48,  6.75,  0.3 ],\n",
       "       [37.82,  6.6 , 20.7 ,  2.1 ],\n",
       "       [38.44,  7.48, 24.3 ,  3.45],\n",
       "       [41.54,  6.82, 21.15,  2.25],\n",
       "       [31.62,  7.26,  7.65,  0.75],\n",
       "       [39.06,  7.26, 27.  ,  3.75],\n",
       "       [35.34,  6.16, 20.25,  1.95],\n",
       "       [39.68,  6.82, 24.75,  2.7 ],\n",
       "       [47.74,  6.6 , 27.45,  3.45],\n",
       "       [48.98,  8.36, 28.8 ,  3.  ],\n",
       "       [27.9 ,  5.06,  5.85,  0.45],\n",
       "       [37.82,  6.38, 21.15,  2.1 ],\n",
       "       [39.68,  7.04, 23.85,  3.45],\n",
       "       [29.14,  7.04,  5.85,  0.3 ],\n",
       "       [31.  ,  7.7 ,  5.85,  0.45],\n",
       "       [31.62,  8.36,  8.55,  0.6 ],\n",
       "       [41.54,  6.82, 25.2 ,  3.6 ],\n",
       "       [30.38,  7.92,  6.3 ,  0.15],\n",
       "       [40.92,  6.6 , 19.8 ,  2.1 ],\n",
       "       [29.76,  7.48,  7.2 ,  0.3 ],\n",
       "       [34.1 ,  5.06, 18.  ,  1.95],\n",
       "       [37.2 ,  5.94, 22.95,  2.4 ],\n",
       "       [27.28,  6.38,  6.3 ,  0.3 ],\n",
       "       [39.68,  6.16, 25.2 ,  3.15],\n",
       "       [34.1 ,  5.28, 17.1 ,  1.65],\n",
       "       [32.24,  9.02,  6.75,  0.15],\n",
       "       [30.38,  6.6 ,  6.3 ,  0.3 ],\n",
       "       [31.  ,  7.26,  6.3 ,  0.3 ],\n",
       "       [37.82,  5.72, 25.2 ,  2.1 ],\n",
       "       [35.34,  6.6 , 18.9 ,  1.8 ],\n",
       "       [33.48,  8.14,  6.75,  0.3 ],\n",
       "       [39.68,  7.04, 20.25,  2.25],\n",
       "       [31.62,  7.7 ,  6.3 ,  0.45],\n",
       "       [27.28,  7.04,  5.85,  0.3 ],\n",
       "       [35.34,  5.5 , 22.5 ,  3.  ],\n",
       "       [47.74,  8.36, 30.15,  3.3 ],\n",
       "       [37.2 ,  7.48, 20.25,  2.4 ],\n",
       "       [31.  ,  6.6 ,  7.2 ,  0.3 ],\n",
       "       [39.68,  6.38, 19.35,  1.95],\n",
       "       [33.48,  7.48,  7.65,  0.3 ],\n",
       "       [39.06,  6.16, 22.95,  2.25]])"
      ]
     },
     "execution_count": 549,
     "metadata": {},
     "output_type": "execute_result"
    }
   ],
   "source": [
    "X_train * X_test[i, :]"
   ]
  },
  {
   "cell_type": "code",
   "execution_count": 411,
   "metadata": {},
   "outputs": [
    {
     "name": "stdout",
     "output_type": "stream",
     "text": [
      "[0 0 0 0]\n",
      "[2 2 2 1]\n",
      "[1 1 1 1]\n",
      "[0 0 0 0]\n",
      "[0 0 0 0]\n",
      "[2 2 2 2]\n",
      "[1 1 1 1]\n",
      "[2 2 2 2]\n",
      "[1 1 1 1]\n",
      "[1 1 1 1]\n",
      "[0 0 0 0]\n",
      "[0 0 0 0]\n",
      "[2 1 2 2]\n",
      "[2 2 2 2]\n",
      "[1 1 2 1]\n"
     ]
    }
   ],
   "source": [
    "y_pred = np.zeros((len(X_test), max(y_train)+1))\n",
    "for i in range(len(X_test)):\n",
    "    k =  np.sum(np.abs(X_train**2 + X_test[i, :]**2 - 2*X_train * X_test[i, :]), axis=1)\n",
    "    i_min = y_train[np.argsort(k)[:4]]\n",
    "    print(i_min)\n",
    "    for q in i_min:\n",
    "        y_pred[i][q] += 1.0\n",
    "    y_pred[i] /= np.sum(y_pred[i])"
   ]
  },
  {
   "cell_type": "code",
   "execution_count": 412,
   "metadata": {},
   "outputs": [
    {
     "data": {
      "text/plain": [
       "array([[1.  , 0.  , 0.  ],\n",
       "       [0.  , 0.25, 0.75],\n",
       "       [0.  , 1.  , 0.  ],\n",
       "       [1.  , 0.  , 0.  ],\n",
       "       [1.  , 0.  , 0.  ],\n",
       "       [0.  , 0.  , 1.  ],\n",
       "       [0.  , 1.  , 0.  ],\n",
       "       [0.  , 0.  , 1.  ],\n",
       "       [0.  , 1.  , 0.  ],\n",
       "       [0.  , 1.  , 0.  ],\n",
       "       [1.  , 0.  , 0.  ],\n",
       "       [1.  , 0.  , 0.  ],\n",
       "       [0.  , 0.25, 0.75],\n",
       "       [0.  , 0.  , 1.  ],\n",
       "       [0.  , 0.75, 0.25]])"
      ]
     },
     "execution_count": 412,
     "metadata": {},
     "output_type": "execute_result"
    }
   ],
   "source": [
    "y_pred"
   ]
  },
  {
   "cell_type": "code",
   "execution_count": 38,
   "metadata": {},
   "outputs": [
    {
     "data": {
      "text/plain": [
       "4"
      ]
     },
     "execution_count": 38,
     "metadata": {},
     "output_type": "execute_result"
    }
   ],
   "source": [
    "len(X_train[0])"
   ]
  },
  {
   "cell_type": "code",
   "execution_count": null,
   "metadata": {},
   "outputs": [],
   "source": []
  },
  {
   "cell_type": "code",
   "execution_count": 537,
   "metadata": {},
   "outputs": [],
   "source": [
    "clf = KNeighborsClassifier(n_neighbors=2)\n",
    "my_clf = MyKNeighborsClassifier(n_neighbors=2)"
   ]
  },
  {
   "cell_type": "code",
   "execution_count": 538,
   "metadata": {},
   "outputs": [
    {
     "name": "stdout",
     "output_type": "stream",
     "text": [
      "CPU times: user 4 ms, sys: 0 ns, total: 4 ms\n",
      "Wall time: 3.62 ms\n"
     ]
    },
    {
     "data": {
      "text/plain": [
       "KNeighborsClassifier(algorithm='auto', leaf_size=30, metric='minkowski',\n",
       "           metric_params=None, n_jobs=None, n_neighbors=2, p=2,\n",
       "           weights='uniform')"
      ]
     },
     "execution_count": 538,
     "metadata": {},
     "output_type": "execute_result"
    }
   ],
   "source": [
    "%time clf.fit(X_train, y_train)"
   ]
  },
  {
   "cell_type": "code",
   "execution_count": 539,
   "metadata": {},
   "outputs": [
    {
     "name": "stdout",
     "output_type": "stream",
     "text": [
      "CPU times: user 0 ns, sys: 0 ns, total: 0 ns\n",
      "Wall time: 185 µs\n"
     ]
    }
   ],
   "source": [
    "%time my_clf.fit(X_train, y_train)"
   ]
  },
  {
   "cell_type": "code",
   "execution_count": 545,
   "metadata": {},
   "outputs": [
    {
     "name": "stdout",
     "output_type": "stream",
     "text": [
      "CPU times: user 4 ms, sys: 0 ns, total: 4 ms\n",
      "Wall time: 2.4 ms\n"
     ]
    },
    {
     "data": {
      "text/plain": [
       "array([0, 2, 1, 0, 0, 2, 1, 2, 1, 1, 0, 0, 1, 2, 1])"
      ]
     },
     "execution_count": 545,
     "metadata": {},
     "output_type": "execute_result"
    }
   ],
   "source": [
    "%time clf.predict(X_test)"
   ]
  },
  {
   "cell_type": "code",
   "execution_count": 546,
   "metadata": {},
   "outputs": [
    {
     "name": "stdout",
     "output_type": "stream",
     "text": [
      "CPU times: user 4 ms, sys: 0 ns, total: 4 ms\n",
      "Wall time: 3.88 ms\n"
     ]
    },
    {
     "data": {
      "text/plain": [
       "array([0, 2, 1, 0, 0, 2, 1, 2, 1, 1, 0, 0, 2, 2, 1])"
      ]
     },
     "execution_count": 546,
     "metadata": {},
     "output_type": "execute_result"
    }
   ],
   "source": [
    "%time my_clf.predict(X_test)"
   ]
  },
  {
   "cell_type": "code",
   "execution_count": 547,
   "metadata": {},
   "outputs": [
    {
     "name": "stdout",
     "output_type": "stream",
     "text": [
      "CPU times: user 4 ms, sys: 0 ns, total: 4 ms\n",
      "Wall time: 3.68 ms\n"
     ]
    },
    {
     "data": {
      "text/plain": [
       "array([[1. , 0. , 0. ],\n",
       "       [0. , 0. , 1. ],\n",
       "       [0. , 1. , 0. ],\n",
       "       [1. , 0. , 0. ],\n",
       "       [1. , 0. , 0. ],\n",
       "       [0. , 0. , 1. ],\n",
       "       [0. , 1. , 0. ],\n",
       "       [0. , 0. , 1. ],\n",
       "       [0. , 1. , 0. ],\n",
       "       [0. , 1. , 0. ],\n",
       "       [1. , 0. , 0. ],\n",
       "       [1. , 0. , 0. ],\n",
       "       [0. , 0.5, 0.5],\n",
       "       [0. , 0. , 1. ],\n",
       "       [0. , 1. , 0. ]])"
      ]
     },
     "execution_count": 547,
     "metadata": {},
     "output_type": "execute_result"
    }
   ],
   "source": [
    "%time clf.predict_proba(X_test)"
   ]
  },
  {
   "cell_type": "code",
   "execution_count": 548,
   "metadata": {},
   "outputs": [
    {
     "name": "stdout",
     "output_type": "stream",
     "text": [
      "CPU times: user 0 ns, sys: 8 ms, total: 8 ms\n",
      "Wall time: 6.11 ms\n"
     ]
    },
    {
     "data": {
      "text/plain": [
       "array([[1. , 0. , 0. ],\n",
       "       [0. , 0. , 1. ],\n",
       "       [0. , 1. , 0. ],\n",
       "       [1. , 0. , 0. ],\n",
       "       [1. , 0. , 0. ],\n",
       "       [0. , 0. , 1. ],\n",
       "       [0. , 1. , 0. ],\n",
       "       [0. , 0. , 1. ],\n",
       "       [0. , 1. , 0. ],\n",
       "       [0. , 1. , 0. ],\n",
       "       [1. , 0. , 0. ],\n",
       "       [1. , 0. , 0. ],\n",
       "       [0. , 0.5, 0.5],\n",
       "       [0. , 0. , 1. ],\n",
       "       [0. , 1. , 0. ]])"
      ]
     },
     "execution_count": 548,
     "metadata": {},
     "output_type": "execute_result"
    }
   ],
   "source": [
    "%time my_clf.predict_proba(X_test)"
   ]
  },
  {
   "cell_type": "code",
   "execution_count": 290,
   "metadata": {},
   "outputs": [
    {
     "data": {
      "text/plain": [
       "0.9333333333333333"
      ]
     },
     "execution_count": 290,
     "metadata": {},
     "output_type": "execute_result"
    }
   ],
   "source": [
    "clf.score(X_test, y_test)"
   ]
  },
  {
   "cell_type": "code",
   "execution_count": 526,
   "metadata": {},
   "outputs": [
    {
     "data": {
      "text/plain": [
       "0.0"
      ]
     },
     "execution_count": 526,
     "metadata": {},
     "output_type": "execute_result"
    }
   ],
   "source": [
    "my_clf.score(X_test, y_test)"
   ]
  },
  {
   "cell_type": "markdown",
   "metadata": {},
   "source": [
    "Задание 3"
   ]
  },
  {
   "cell_type": "code",
   "execution_count": null,
   "metadata": {},
   "outputs": [],
   "source": []
  },
  {
   "cell_type": "markdown",
   "metadata": {},
   "source": [
    "**MNIST**"
   ]
  },
  {
   "cell_type": "code",
   "execution_count": 41,
   "metadata": {},
   "outputs": [
    {
     "name": "stderr",
     "output_type": "stream",
     "text": [
      "/home/kirill/playground/env/lib/python3.5/site-packages/sklearn/utils/deprecation.py:77: DeprecationWarning: Function fetch_mldata is deprecated; fetch_mldata was deprecated in version 0.20 and will be removed in version 0.22\n",
      "  warnings.warn(msg, category=DeprecationWarning)\n",
      "/home/kirill/playground/env/lib/python3.5/site-packages/sklearn/utils/deprecation.py:77: DeprecationWarning: Function mldata_filename is deprecated; mldata_filename was deprecated in version 0.20 and will be removed in version 0.22\n",
      "  warnings.warn(msg, category=DeprecationWarning)\n"
     ]
    },
    {
     "ename": "ConnectionResetError",
     "evalue": "[Errno 104] Connection reset by peer",
     "output_type": "error",
     "traceback": [
      "\u001b[0;31m---------------------------------------------------------------------------\u001b[0m",
      "\u001b[0;31mConnectionResetError\u001b[0m                      Traceback (most recent call last)",
      "\u001b[0;32m<ipython-input-41-6af3f8fc2d5b>\u001b[0m in \u001b[0;36m<module>\u001b[0;34m()\u001b[0m\n\u001b[0;32m----> 1\u001b[0;31m \u001b[0mmnist\u001b[0m \u001b[0;34m=\u001b[0m \u001b[0mfetch_mldata\u001b[0m\u001b[0;34m(\u001b[0m\u001b[0;34m'MNIST original'\u001b[0m\u001b[0;34m)\u001b[0m\u001b[0;34m\u001b[0m\u001b[0m\n\u001b[0m",
      "\u001b[0;32m~/playground/env/lib/python3.5/site-packages/sklearn/utils/deprecation.py\u001b[0m in \u001b[0;36mwrapped\u001b[0;34m(*args, **kwargs)\u001b[0m\n\u001b[1;32m     76\u001b[0m         \u001b[0;32mdef\u001b[0m \u001b[0mwrapped\u001b[0m\u001b[0;34m(\u001b[0m\u001b[0;34m*\u001b[0m\u001b[0margs\u001b[0m\u001b[0;34m,\u001b[0m \u001b[0;34m**\u001b[0m\u001b[0mkwargs\u001b[0m\u001b[0;34m)\u001b[0m\u001b[0;34m:\u001b[0m\u001b[0;34m\u001b[0m\u001b[0m\n\u001b[1;32m     77\u001b[0m             \u001b[0mwarnings\u001b[0m\u001b[0;34m.\u001b[0m\u001b[0mwarn\u001b[0m\u001b[0;34m(\u001b[0m\u001b[0mmsg\u001b[0m\u001b[0;34m,\u001b[0m \u001b[0mcategory\u001b[0m\u001b[0;34m=\u001b[0m\u001b[0mDeprecationWarning\u001b[0m\u001b[0;34m)\u001b[0m\u001b[0;34m\u001b[0m\u001b[0m\n\u001b[0;32m---> 78\u001b[0;31m             \u001b[0;32mreturn\u001b[0m \u001b[0mfun\u001b[0m\u001b[0;34m(\u001b[0m\u001b[0;34m*\u001b[0m\u001b[0margs\u001b[0m\u001b[0;34m,\u001b[0m \u001b[0;34m**\u001b[0m\u001b[0mkwargs\u001b[0m\u001b[0;34m)\u001b[0m\u001b[0;34m\u001b[0m\u001b[0m\n\u001b[0m\u001b[1;32m     79\u001b[0m \u001b[0;34m\u001b[0m\u001b[0m\n\u001b[1;32m     80\u001b[0m         \u001b[0mwrapped\u001b[0m\u001b[0;34m.\u001b[0m\u001b[0m__doc__\u001b[0m \u001b[0;34m=\u001b[0m \u001b[0mself\u001b[0m\u001b[0;34m.\u001b[0m\u001b[0m_update_doc\u001b[0m\u001b[0;34m(\u001b[0m\u001b[0mwrapped\u001b[0m\u001b[0;34m.\u001b[0m\u001b[0m__doc__\u001b[0m\u001b[0;34m)\u001b[0m\u001b[0;34m\u001b[0m\u001b[0m\n",
      "\u001b[0;32m~/playground/env/lib/python3.5/site-packages/sklearn/datasets/mldata.py\u001b[0m in \u001b[0;36mfetch_mldata\u001b[0;34m(dataname, target_name, data_name, transpose_data, data_home)\u001b[0m\n\u001b[1;32m    131\u001b[0m         \u001b[0murlname\u001b[0m \u001b[0;34m=\u001b[0m \u001b[0mMLDATA_BASE_URL\u001b[0m \u001b[0;34m%\u001b[0m \u001b[0mquote\u001b[0m\u001b[0;34m(\u001b[0m\u001b[0mdataname\u001b[0m\u001b[0;34m)\u001b[0m\u001b[0;34m\u001b[0m\u001b[0m\n\u001b[1;32m    132\u001b[0m         \u001b[0;32mtry\u001b[0m\u001b[0;34m:\u001b[0m\u001b[0;34m\u001b[0m\u001b[0m\n\u001b[0;32m--> 133\u001b[0;31m             \u001b[0mmldata_url\u001b[0m \u001b[0;34m=\u001b[0m \u001b[0murlopen\u001b[0m\u001b[0;34m(\u001b[0m\u001b[0murlname\u001b[0m\u001b[0;34m)\u001b[0m\u001b[0;34m\u001b[0m\u001b[0m\n\u001b[0m\u001b[1;32m    134\u001b[0m         \u001b[0;32mexcept\u001b[0m \u001b[0mHTTPError\u001b[0m \u001b[0;32mas\u001b[0m \u001b[0me\u001b[0m\u001b[0;34m:\u001b[0m\u001b[0;34m\u001b[0m\u001b[0m\n\u001b[1;32m    135\u001b[0m             \u001b[0;32mif\u001b[0m \u001b[0me\u001b[0m\u001b[0;34m.\u001b[0m\u001b[0mcode\u001b[0m \u001b[0;34m==\u001b[0m \u001b[0;36m404\u001b[0m\u001b[0;34m:\u001b[0m\u001b[0;34m\u001b[0m\u001b[0m\n",
      "\u001b[0;32m/usr/lib/python3.5/urllib/request.py\u001b[0m in \u001b[0;36murlopen\u001b[0;34m(url, data, timeout, cafile, capath, cadefault, context)\u001b[0m\n\u001b[1;32m    161\u001b[0m     \u001b[0;32melse\u001b[0m\u001b[0;34m:\u001b[0m\u001b[0;34m\u001b[0m\u001b[0m\n\u001b[1;32m    162\u001b[0m         \u001b[0mopener\u001b[0m \u001b[0;34m=\u001b[0m \u001b[0m_opener\u001b[0m\u001b[0;34m\u001b[0m\u001b[0m\n\u001b[0;32m--> 163\u001b[0;31m     \u001b[0;32mreturn\u001b[0m \u001b[0mopener\u001b[0m\u001b[0;34m.\u001b[0m\u001b[0mopen\u001b[0m\u001b[0;34m(\u001b[0m\u001b[0murl\u001b[0m\u001b[0;34m,\u001b[0m \u001b[0mdata\u001b[0m\u001b[0;34m,\u001b[0m \u001b[0mtimeout\u001b[0m\u001b[0;34m)\u001b[0m\u001b[0;34m\u001b[0m\u001b[0m\n\u001b[0m\u001b[1;32m    164\u001b[0m \u001b[0;34m\u001b[0m\u001b[0m\n\u001b[1;32m    165\u001b[0m \u001b[0;32mdef\u001b[0m \u001b[0minstall_opener\u001b[0m\u001b[0;34m(\u001b[0m\u001b[0mopener\u001b[0m\u001b[0;34m)\u001b[0m\u001b[0;34m:\u001b[0m\u001b[0;34m\u001b[0m\u001b[0m\n",
      "\u001b[0;32m/usr/lib/python3.5/urllib/request.py\u001b[0m in \u001b[0;36mopen\u001b[0;34m(self, fullurl, data, timeout)\u001b[0m\n\u001b[1;32m    464\u001b[0m             \u001b[0mreq\u001b[0m \u001b[0;34m=\u001b[0m \u001b[0mmeth\u001b[0m\u001b[0;34m(\u001b[0m\u001b[0mreq\u001b[0m\u001b[0;34m)\u001b[0m\u001b[0;34m\u001b[0m\u001b[0m\n\u001b[1;32m    465\u001b[0m \u001b[0;34m\u001b[0m\u001b[0m\n\u001b[0;32m--> 466\u001b[0;31m         \u001b[0mresponse\u001b[0m \u001b[0;34m=\u001b[0m \u001b[0mself\u001b[0m\u001b[0;34m.\u001b[0m\u001b[0m_open\u001b[0m\u001b[0;34m(\u001b[0m\u001b[0mreq\u001b[0m\u001b[0;34m,\u001b[0m \u001b[0mdata\u001b[0m\u001b[0;34m)\u001b[0m\u001b[0;34m\u001b[0m\u001b[0m\n\u001b[0m\u001b[1;32m    467\u001b[0m \u001b[0;34m\u001b[0m\u001b[0m\n\u001b[1;32m    468\u001b[0m         \u001b[0;31m# post-process response\u001b[0m\u001b[0;34m\u001b[0m\u001b[0;34m\u001b[0m\u001b[0m\n",
      "\u001b[0;32m/usr/lib/python3.5/urllib/request.py\u001b[0m in \u001b[0;36m_open\u001b[0;34m(self, req, data)\u001b[0m\n\u001b[1;32m    482\u001b[0m         \u001b[0mprotocol\u001b[0m \u001b[0;34m=\u001b[0m \u001b[0mreq\u001b[0m\u001b[0;34m.\u001b[0m\u001b[0mtype\u001b[0m\u001b[0;34m\u001b[0m\u001b[0m\n\u001b[1;32m    483\u001b[0m         result = self._call_chain(self.handle_open, protocol, protocol +\n\u001b[0;32m--> 484\u001b[0;31m                                   '_open', req)\n\u001b[0m\u001b[1;32m    485\u001b[0m         \u001b[0;32mif\u001b[0m \u001b[0mresult\u001b[0m\u001b[0;34m:\u001b[0m\u001b[0;34m\u001b[0m\u001b[0m\n\u001b[1;32m    486\u001b[0m             \u001b[0;32mreturn\u001b[0m \u001b[0mresult\u001b[0m\u001b[0;34m\u001b[0m\u001b[0m\n",
      "\u001b[0;32m/usr/lib/python3.5/urllib/request.py\u001b[0m in \u001b[0;36m_call_chain\u001b[0;34m(self, chain, kind, meth_name, *args)\u001b[0m\n\u001b[1;32m    442\u001b[0m         \u001b[0;32mfor\u001b[0m \u001b[0mhandler\u001b[0m \u001b[0;32min\u001b[0m \u001b[0mhandlers\u001b[0m\u001b[0;34m:\u001b[0m\u001b[0;34m\u001b[0m\u001b[0m\n\u001b[1;32m    443\u001b[0m             \u001b[0mfunc\u001b[0m \u001b[0;34m=\u001b[0m \u001b[0mgetattr\u001b[0m\u001b[0;34m(\u001b[0m\u001b[0mhandler\u001b[0m\u001b[0;34m,\u001b[0m \u001b[0mmeth_name\u001b[0m\u001b[0;34m)\u001b[0m\u001b[0;34m\u001b[0m\u001b[0m\n\u001b[0;32m--> 444\u001b[0;31m             \u001b[0mresult\u001b[0m \u001b[0;34m=\u001b[0m \u001b[0mfunc\u001b[0m\u001b[0;34m(\u001b[0m\u001b[0;34m*\u001b[0m\u001b[0margs\u001b[0m\u001b[0;34m)\u001b[0m\u001b[0;34m\u001b[0m\u001b[0m\n\u001b[0m\u001b[1;32m    445\u001b[0m             \u001b[0;32mif\u001b[0m \u001b[0mresult\u001b[0m \u001b[0;32mis\u001b[0m \u001b[0;32mnot\u001b[0m \u001b[0;32mNone\u001b[0m\u001b[0;34m:\u001b[0m\u001b[0;34m\u001b[0m\u001b[0m\n\u001b[1;32m    446\u001b[0m                 \u001b[0;32mreturn\u001b[0m \u001b[0mresult\u001b[0m\u001b[0;34m\u001b[0m\u001b[0m\n",
      "\u001b[0;32m/usr/lib/python3.5/urllib/request.py\u001b[0m in \u001b[0;36mhttp_open\u001b[0;34m(self, req)\u001b[0m\n\u001b[1;32m   1280\u001b[0m \u001b[0;34m\u001b[0m\u001b[0m\n\u001b[1;32m   1281\u001b[0m     \u001b[0;32mdef\u001b[0m \u001b[0mhttp_open\u001b[0m\u001b[0;34m(\u001b[0m\u001b[0mself\u001b[0m\u001b[0;34m,\u001b[0m \u001b[0mreq\u001b[0m\u001b[0;34m)\u001b[0m\u001b[0;34m:\u001b[0m\u001b[0;34m\u001b[0m\u001b[0m\n\u001b[0;32m-> 1282\u001b[0;31m         \u001b[0;32mreturn\u001b[0m \u001b[0mself\u001b[0m\u001b[0;34m.\u001b[0m\u001b[0mdo_open\u001b[0m\u001b[0;34m(\u001b[0m\u001b[0mhttp\u001b[0m\u001b[0;34m.\u001b[0m\u001b[0mclient\u001b[0m\u001b[0;34m.\u001b[0m\u001b[0mHTTPConnection\u001b[0m\u001b[0;34m,\u001b[0m \u001b[0mreq\u001b[0m\u001b[0;34m)\u001b[0m\u001b[0;34m\u001b[0m\u001b[0m\n\u001b[0m\u001b[1;32m   1283\u001b[0m \u001b[0;34m\u001b[0m\u001b[0m\n\u001b[1;32m   1284\u001b[0m     \u001b[0mhttp_request\u001b[0m \u001b[0;34m=\u001b[0m \u001b[0mAbstractHTTPHandler\u001b[0m\u001b[0;34m.\u001b[0m\u001b[0mdo_request_\u001b[0m\u001b[0;34m\u001b[0m\u001b[0m\n",
      "\u001b[0;32m/usr/lib/python3.5/urllib/request.py\u001b[0m in \u001b[0;36mdo_open\u001b[0;34m(self, http_class, req, **http_conn_args)\u001b[0m\n\u001b[1;32m   1255\u001b[0m             \u001b[0;32mexcept\u001b[0m \u001b[0mOSError\u001b[0m \u001b[0;32mas\u001b[0m \u001b[0merr\u001b[0m\u001b[0;34m:\u001b[0m \u001b[0;31m# timeout error\u001b[0m\u001b[0;34m\u001b[0m\u001b[0m\n\u001b[1;32m   1256\u001b[0m                 \u001b[0;32mraise\u001b[0m \u001b[0mURLError\u001b[0m\u001b[0;34m(\u001b[0m\u001b[0merr\u001b[0m\u001b[0;34m)\u001b[0m\u001b[0;34m\u001b[0m\u001b[0m\n\u001b[0;32m-> 1257\u001b[0;31m             \u001b[0mr\u001b[0m \u001b[0;34m=\u001b[0m \u001b[0mh\u001b[0m\u001b[0;34m.\u001b[0m\u001b[0mgetresponse\u001b[0m\u001b[0;34m(\u001b[0m\u001b[0;34m)\u001b[0m\u001b[0;34m\u001b[0m\u001b[0m\n\u001b[0m\u001b[1;32m   1258\u001b[0m         \u001b[0;32mexcept\u001b[0m\u001b[0;34m:\u001b[0m\u001b[0;34m\u001b[0m\u001b[0m\n\u001b[1;32m   1259\u001b[0m             \u001b[0mh\u001b[0m\u001b[0;34m.\u001b[0m\u001b[0mclose\u001b[0m\u001b[0;34m(\u001b[0m\u001b[0;34m)\u001b[0m\u001b[0;34m\u001b[0m\u001b[0m\n",
      "\u001b[0;32m/usr/lib/python3.5/http/client.py\u001b[0m in \u001b[0;36mgetresponse\u001b[0;34m(self)\u001b[0m\n\u001b[1;32m   1195\u001b[0m         \u001b[0;32mtry\u001b[0m\u001b[0;34m:\u001b[0m\u001b[0;34m\u001b[0m\u001b[0m\n\u001b[1;32m   1196\u001b[0m             \u001b[0;32mtry\u001b[0m\u001b[0;34m:\u001b[0m\u001b[0;34m\u001b[0m\u001b[0m\n\u001b[0;32m-> 1197\u001b[0;31m                 \u001b[0mresponse\u001b[0m\u001b[0;34m.\u001b[0m\u001b[0mbegin\u001b[0m\u001b[0;34m(\u001b[0m\u001b[0;34m)\u001b[0m\u001b[0;34m\u001b[0m\u001b[0m\n\u001b[0m\u001b[1;32m   1198\u001b[0m             \u001b[0;32mexcept\u001b[0m \u001b[0mConnectionError\u001b[0m\u001b[0;34m:\u001b[0m\u001b[0;34m\u001b[0m\u001b[0m\n\u001b[1;32m   1199\u001b[0m                 \u001b[0mself\u001b[0m\u001b[0;34m.\u001b[0m\u001b[0mclose\u001b[0m\u001b[0;34m(\u001b[0m\u001b[0;34m)\u001b[0m\u001b[0;34m\u001b[0m\u001b[0m\n",
      "\u001b[0;32m/usr/lib/python3.5/http/client.py\u001b[0m in \u001b[0;36mbegin\u001b[0;34m(self)\u001b[0m\n\u001b[1;32m    295\u001b[0m         \u001b[0;31m# read until we get a non-100 response\u001b[0m\u001b[0;34m\u001b[0m\u001b[0;34m\u001b[0m\u001b[0m\n\u001b[1;32m    296\u001b[0m         \u001b[0;32mwhile\u001b[0m \u001b[0;32mTrue\u001b[0m\u001b[0;34m:\u001b[0m\u001b[0;34m\u001b[0m\u001b[0m\n\u001b[0;32m--> 297\u001b[0;31m             \u001b[0mversion\u001b[0m\u001b[0;34m,\u001b[0m \u001b[0mstatus\u001b[0m\u001b[0;34m,\u001b[0m \u001b[0mreason\u001b[0m \u001b[0;34m=\u001b[0m \u001b[0mself\u001b[0m\u001b[0;34m.\u001b[0m\u001b[0m_read_status\u001b[0m\u001b[0;34m(\u001b[0m\u001b[0;34m)\u001b[0m\u001b[0;34m\u001b[0m\u001b[0m\n\u001b[0m\u001b[1;32m    298\u001b[0m             \u001b[0;32mif\u001b[0m \u001b[0mstatus\u001b[0m \u001b[0;34m!=\u001b[0m \u001b[0mCONTINUE\u001b[0m\u001b[0;34m:\u001b[0m\u001b[0;34m\u001b[0m\u001b[0m\n\u001b[1;32m    299\u001b[0m                 \u001b[0;32mbreak\u001b[0m\u001b[0;34m\u001b[0m\u001b[0m\n",
      "\u001b[0;32m/usr/lib/python3.5/http/client.py\u001b[0m in \u001b[0;36m_read_status\u001b[0;34m(self)\u001b[0m\n\u001b[1;32m    256\u001b[0m \u001b[0;34m\u001b[0m\u001b[0m\n\u001b[1;32m    257\u001b[0m     \u001b[0;32mdef\u001b[0m \u001b[0m_read_status\u001b[0m\u001b[0;34m(\u001b[0m\u001b[0mself\u001b[0m\u001b[0;34m)\u001b[0m\u001b[0;34m:\u001b[0m\u001b[0;34m\u001b[0m\u001b[0m\n\u001b[0;32m--> 258\u001b[0;31m         \u001b[0mline\u001b[0m \u001b[0;34m=\u001b[0m \u001b[0mstr\u001b[0m\u001b[0;34m(\u001b[0m\u001b[0mself\u001b[0m\u001b[0;34m.\u001b[0m\u001b[0mfp\u001b[0m\u001b[0;34m.\u001b[0m\u001b[0mreadline\u001b[0m\u001b[0;34m(\u001b[0m\u001b[0m_MAXLINE\u001b[0m \u001b[0;34m+\u001b[0m \u001b[0;36m1\u001b[0m\u001b[0;34m)\u001b[0m\u001b[0;34m,\u001b[0m \u001b[0;34m\"iso-8859-1\"\u001b[0m\u001b[0;34m)\u001b[0m\u001b[0;34m\u001b[0m\u001b[0m\n\u001b[0m\u001b[1;32m    259\u001b[0m         \u001b[0;32mif\u001b[0m \u001b[0mlen\u001b[0m\u001b[0;34m(\u001b[0m\u001b[0mline\u001b[0m\u001b[0;34m)\u001b[0m \u001b[0;34m>\u001b[0m \u001b[0m_MAXLINE\u001b[0m\u001b[0;34m:\u001b[0m\u001b[0;34m\u001b[0m\u001b[0m\n\u001b[1;32m    260\u001b[0m             \u001b[0;32mraise\u001b[0m \u001b[0mLineTooLong\u001b[0m\u001b[0;34m(\u001b[0m\u001b[0;34m\"status line\"\u001b[0m\u001b[0;34m)\u001b[0m\u001b[0;34m\u001b[0m\u001b[0m\n",
      "\u001b[0;32m/usr/lib/python3.5/socket.py\u001b[0m in \u001b[0;36mreadinto\u001b[0;34m(self, b)\u001b[0m\n\u001b[1;32m    573\u001b[0m         \u001b[0;32mwhile\u001b[0m \u001b[0;32mTrue\u001b[0m\u001b[0;34m:\u001b[0m\u001b[0;34m\u001b[0m\u001b[0m\n\u001b[1;32m    574\u001b[0m             \u001b[0;32mtry\u001b[0m\u001b[0;34m:\u001b[0m\u001b[0;34m\u001b[0m\u001b[0m\n\u001b[0;32m--> 575\u001b[0;31m                 \u001b[0;32mreturn\u001b[0m \u001b[0mself\u001b[0m\u001b[0;34m.\u001b[0m\u001b[0m_sock\u001b[0m\u001b[0;34m.\u001b[0m\u001b[0mrecv_into\u001b[0m\u001b[0;34m(\u001b[0m\u001b[0mb\u001b[0m\u001b[0;34m)\u001b[0m\u001b[0;34m\u001b[0m\u001b[0m\n\u001b[0m\u001b[1;32m    576\u001b[0m             \u001b[0;32mexcept\u001b[0m \u001b[0mtimeout\u001b[0m\u001b[0;34m:\u001b[0m\u001b[0;34m\u001b[0m\u001b[0m\n\u001b[1;32m    577\u001b[0m                 \u001b[0mself\u001b[0m\u001b[0;34m.\u001b[0m\u001b[0m_timeout_occurred\u001b[0m \u001b[0;34m=\u001b[0m \u001b[0;32mTrue\u001b[0m\u001b[0;34m\u001b[0m\u001b[0m\n",
      "\u001b[0;31mConnectionResetError\u001b[0m: [Errno 104] Connection reset by peer"
     ]
    }
   ],
   "source": [
    "mnist = fetch_mldata('MNIST original')"
   ]
  },
  {
   "cell_type": "code",
   "execution_count": null,
   "metadata": {},
   "outputs": [],
   "source": [
    "X_train, X_test, y_train, y_test = train_test_split(mnist.data, mnist.target, test_size=0.01, stratify=mnist.target)"
   ]
  },
  {
   "cell_type": "code",
   "execution_count": null,
   "metadata": {},
   "outputs": [],
   "source": [
    "clf = KNeighborsClassifier(n_neighbors=2)\n",
    "my_clf = MyKNeighborsClassifier(n_neighbors=2)"
   ]
  },
  {
   "cell_type": "code",
   "execution_count": null,
   "metadata": {},
   "outputs": [],
   "source": [
    "%time clf.fit(X_train, y_train)"
   ]
  },
  {
   "cell_type": "code",
   "execution_count": null,
   "metadata": {},
   "outputs": [],
   "source": [
    "%time my_clf.fit(X_train, y_train)"
   ]
  },
  {
   "cell_type": "code",
   "execution_count": null,
   "metadata": {},
   "outputs": [],
   "source": [
    "%time clf.predict(X_test)"
   ]
  },
  {
   "cell_type": "code",
   "execution_count": null,
   "metadata": {},
   "outputs": [],
   "source": [
    "%time my_clf.predict(X_test)"
   ]
  },
  {
   "cell_type": "code",
   "execution_count": null,
   "metadata": {},
   "outputs": [],
   "source": [
    "%time clf.predict_proba(X_test)"
   ]
  },
  {
   "cell_type": "code",
   "execution_count": null,
   "metadata": {},
   "outputs": [],
   "source": [
    "%time my_clf.predict_proba(X_test)"
   ]
  },
  {
   "cell_type": "code",
   "execution_count": null,
   "metadata": {},
   "outputs": [],
   "source": [
    "clf.score(X_test, y_test)"
   ]
  },
  {
   "cell_type": "code",
   "execution_count": null,
   "metadata": {},
   "outputs": [],
   "source": [
    "my_clf.score(X_test, y_test)"
   ]
  },
  {
   "cell_type": "markdown",
   "metadata": {},
   "source": [
    "Задание 4"
   ]
  },
  {
   "cell_type": "code",
   "execution_count": null,
   "metadata": {},
   "outputs": [],
   "source": [
    "clf = KNeighborsClassifier(n_neighbors=2, algorithm='kd_tree')\n",
    "my_clf = MyKNeighborsClassifier(n_neighbors=2, algorithm='kd_tree')"
   ]
  },
  {
   "cell_type": "code",
   "execution_count": null,
   "metadata": {},
   "outputs": [],
   "source": [
    "X_train, X_test, y_train, y_test = train_test_split(mnist.data, mnist.target, test_size=0.01, stratify=mnist.target)"
   ]
  },
  {
   "cell_type": "code",
   "execution_count": null,
   "metadata": {},
   "outputs": [],
   "source": [
    "%time clf.fit(X_train, y_train)"
   ]
  },
  {
   "cell_type": "code",
   "execution_count": null,
   "metadata": {},
   "outputs": [],
   "source": [
    "%time my_clf.fit(X_train, y_train)"
   ]
  },
  {
   "cell_type": "code",
   "execution_count": null,
   "metadata": {},
   "outputs": [],
   "source": [
    "%time clf.predict(X_test)"
   ]
  },
  {
   "cell_type": "code",
   "execution_count": null,
   "metadata": {},
   "outputs": [],
   "source": [
    "%time my_clf.predict(X_test)"
   ]
  },
  {
   "cell_type": "code",
   "execution_count": null,
   "metadata": {},
   "outputs": [],
   "source": [
    "%time clf.predict_proba(X_test)"
   ]
  },
  {
   "cell_type": "code",
   "execution_count": null,
   "metadata": {},
   "outputs": [],
   "source": [
    "%time my_clf.predict_proba(X_test)"
   ]
  },
  {
   "cell_type": "code",
   "execution_count": null,
   "metadata": {},
   "outputs": [],
   "source": [
    "clf.score(X_test, y_test)"
   ]
  },
  {
   "cell_type": "code",
   "execution_count": null,
   "metadata": {},
   "outputs": [],
   "source": [
    "my_clf.score(X_test, y_test)"
   ]
  },
  {
   "cell_type": "markdown",
   "metadata": {},
   "source": [
    "Задание 5"
   ]
  },
  {
   "cell_type": "code",
   "execution_count": null,
   "metadata": {},
   "outputs": [],
   "source": [
    "# seaborn\n",
    "# matplotlib\n",
    "# train_test_split\n",
    "# Pipelin%load_ext e (from sklearn.pipeline import Pipeline)\n",
    "# StandardScaler (from sklearn.preprocessing import StandardScaler)\n",
    "# ClassifierMixin\n",
    "# NeighborsBase\n",
    "# KNeighborsMixin\n",
    "# SupervisedIntegerMixin"
   ]
  }
 ],
 "metadata": {
  "kernelspec": {
   "display_name": "Python 3",
   "language": "python",
   "name": "python3"
  },
  "language_info": {
   "codemirror_mode": {
    "name": "ipython",
    "version": 3
   },
   "file_extension": ".py",
   "mimetype": "text/x-python",
   "name": "python",
   "nbconvert_exporter": "python",
   "pygments_lexer": "ipython3",
   "version": "3.5.2"
  }
 },
 "nbformat": 4,
 "nbformat_minor": 2
}
