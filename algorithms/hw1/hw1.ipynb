{
 "cells": [
  {
   "cell_type": "markdown",
   "metadata": {},
   "source": [
    "**Общая информация**\n",
    "\n",
    "**Срок сдачи:** 20 марта 2019, 06:00 <br\\>\n",
    "**Штраф за опоздание:** -1 балл после 06:00 20 марта, -2 балла после 06:00 27 марта, -3 балла после 06:00 3 апреля\n",
    "\n",
    "При отправлении ДЗ указывайте фамилию в названии файла\n",
    "Присылать ДЗ необходимо в виде ссылки на свой github репозиторий в slack @alkhamush\n",
    "\n",
    "Необходимо в slack скинуть ссылку в личный чат @alkhamush\n",
    "Пример ссылки:\n",
    "https://github.com/stroykova/spheremailru/stroykova_hw1.ipynb \n",
    "\n",
    "\n",
    "Используйте данный Ipython Notebook при оформлении домашнего задания."
   ]
  },
  {
   "cell_type": "markdown",
   "metadata": {},
   "source": [
    "###### Задание 1 (2 баллов)\n",
    "Реализовать KNN в классе MyKNeighborsClassifier (обязательное условие: точность не ниже sklearn реализации)\n",
    "Разберитесь самостоятельно, какая мера расстояния используется в KNeighborsClassifier дефолтно и реализуйте свой алгоритм именно с этой мерой. Самостоятельно разберитесь, как считается score из KNeighborsClassifier и реализуйте аналог в своём классе. Score не должен уступать значению KNN из sklearn\n",
    "\n",
    "###### Задание 2 (2 балла)\n",
    "Добиться скорости работы на fit,  predict и predict_proba сравнимой со sklearn для iris и mnist\n",
    "Для этого используем numpy\n",
    "\n",
    "###### Задание 3 (2 балла)\n",
    "Для iris найдите такой параметр n_neighbors, при котором выдаётся наилучший score. Нарисуйте график зависимости score от n_neighbors\n",
    "\n",
    "###### Задание 4 (3 балла)\n",
    "Добавить algorithm='kd_tree' в реализацию KNN (использовать KDTree из sklearn.neighbors). Значение n_neighbors нужно взять из задания 3. Добиться скорости работы на fit,  predict и predict_proba сравнимой со sklearn для iris и mnist\n",
    "Для этого используем numpy. Score не должен уступать значению KNN из sklearn\n",
    "\n",
    "###### Задание 5 (1 балла)\n",
    "Описать для чего нужны следующие библиотеки/классы/функции (список будет ниже)\n",
    "\n",
    "**Штрафные баллы:**\n",
    "\n",
    "1. Невыполнение PEP8 -1 балл\n",
    "2. Отсутствие фамилии в имени скрипта (скрипт должен называться по аналогии со stroykova_hw1.ipynb) -1 балл\n",
    "3. Все строчки должны быть выполнены. Нужно, чтобы output команды можно было увидеть уже в git'е. В противном случае -1 балл\n",
    "4. При оформлении ДЗ нужно пользоваться данным файлом в качестве шаблона. Не нужно удалять и видоизменять структуру кода и текст. В противном случае -1 балл\n"
   ]
  },
  {
   "cell_type": "code",
   "execution_count": 1,
   "metadata": {},
   "outputs": [],
   "source": [
    "import numpy as np\n",
    "import matplotlib.pyplot as plt\n",
    "\n",
    "from scipy.spatial.distance import cdist\n",
    "import seaborn as sns\n",
    "from sklearn import datasets\n",
    "from sklearn.base import ClassifierMixin\n",
    "from sklearn.datasets import fetch_mldata\n",
    "from sklearn.neighbors.base import NeighborsBase, KNeighborsMixin, SupervisedIntegerMixin \n",
    "from sklearn.model_selection import train_test_split\n",
    "from sklearn.neighbors import KNeighborsClassifier\n",
    "%load_ext pycodestyle_magic"
   ]
  },
  {
   "cell_type": "markdown",
   "metadata": {},
   "source": [
    "Реализовать KNN в классе MyKNeighborsClassifier (обязательное условие: точность не ниже sklearn реализации) Разберитесь самостоятельно, какая мера расстояния используется в KNeighborsClassifier дефолтно и реализуйте свой алгоритм именно с этой мерой. Самостоятельно разберитесь, как считается score из KNeighborsClassifier и реализуйте аналог в своём классе. Score не должен уступать значению KNN из sklearn\n",
    "\n"
   ]
  },
  {
   "cell_type": "code",
   "execution_count": 20,
   "metadata": {},
   "outputs": [],
   "source": [
    "# %%pycodestyle\n",
    "\n",
    "class MyKNeighborsClassifier(NeighborsBase, KNeighborsMixin,\n",
    "                             SupervisedIntegerMixin, ClassifierMixin):\n",
    "\n",
    "    def __init__(self, n_neighbors, algorithm='brute'):\n",
    "\n",
    "        self.n_neighbors = n_neighbors\n",
    "        self.algorithm = algorithm\n",
    "\n",
    "    def fit(self, X, y):\n",
    "        # nothing\n",
    "        self.y_tr = y\n",
    "        self.x_tr = X\n",
    "        \n",
    "        self.n_class = np.max(y)+1\n",
    "        \n",
    "\n",
    "\n",
    "    def predict(self, X):\n",
    "        if self.algorithm == \"kd_tree\":\n",
    "            tree = KDTree(self.x_tr)\n",
    "            _, ind = tree.query(X, k=self.n_neighbors)\n",
    "            classes = y_train[ind]\n",
    "            \n",
    "        elif self.algorithm == \"brute\":\n",
    "            distanse = cdist(X, self.x_tr, metric='euclidean' )\n",
    "            classes = y_train[np.argsort(distanse)[:,:self.n_neighbors]]\n",
    "        \n",
    "        Y_pred = np.zeros(len(X), dtype = self.y_tr.dtype)\n",
    "        \n",
    "        for i in range(len(X)):\n",
    "            Y_pred[i] = np.argmax(np.bincount(classes[i]))\n",
    "\n",
    "        return Y_pred\n",
    "\n",
    "    def predict_proba(self, X):\n",
    "        if self.algorithm == \"kd_tree\":\n",
    "            tree = KDTree(self.x_tr)\n",
    "            distanse, ind = tree.query(X, k=self.n_neighbors)\n",
    "            classes = y_train[ind]\n",
    "            \n",
    "        elif self.algorithm == \"brute\":\n",
    "            distanse = cdist(X, self.x_tr, metric='euclidean' )\n",
    "            classes = y_train[np.argsort(distanse)[:,:self.n_neighbors]]\n",
    "        \n",
    "        Y_pred = np.zeros((len(X), self.n_class), dtype = np.float16)\n",
    "        \n",
    "        c = 0\n",
    "        for i in classes:\n",
    "            for j in i:\n",
    "                Y_pred[c][j] += 1.0\n",
    "            \n",
    "            Y_pred[c] = Y_pred[c] / np.sum(Y_pred[c])\n",
    "            \n",
    "            c += 1\n",
    "            \n",
    "\n",
    "        return Y_pred\n",
    "            \n",
    "    def score(self, X, y):\n",
    "        return (self.predict(X) == y).mean()"
   ]
  },
  {
   "cell_type": "markdown",
   "metadata": {},
   "source": [
    "**IRIS**"
   ]
  },
  {
   "cell_type": "code",
   "execution_count": 3,
   "metadata": {},
   "outputs": [],
   "source": [
    "iris = datasets.load_iris()"
   ]
  },
  {
   "cell_type": "code",
   "execution_count": 4,
   "metadata": {},
   "outputs": [],
   "source": [
    "X_train, X_test, y_train, y_test = train_test_split(iris.data, iris.target, test_size=0.1, stratify=iris.target)"
   ]
  },
  {
   "cell_type": "code",
   "execution_count": 5,
   "metadata": {},
   "outputs": [],
   "source": [
    "from sklearn.neighbors import KDTree"
   ]
  },
  {
   "cell_type": "code",
   "execution_count": 121,
   "metadata": {},
   "outputs": [],
   "source": [
    "tree = KDTree(X_train)"
   ]
  },
  {
   "cell_type": "code",
   "execution_count": 235,
   "metadata": {},
   "outputs": [
    {
     "data": {
      "text/plain": [
       "array([0.5, 0. , 0.5])"
      ]
     },
     "execution_count": 235,
     "metadata": {},
     "output_type": "execute_result"
    }
   ],
   "source": [
    "q = np.array([1, 0, 1])\n",
    "q/sum(q)"
   ]
  },
  {
   "cell_type": "code",
   "execution_count": 226,
   "metadata": {},
   "outputs": [
    {
     "name": "stdout",
     "output_type": "stream",
     "text": [
      "0\n",
      "0\n",
      "2\n",
      "2\n",
      "2\n",
      "1\n",
      "1\n",
      "1\n",
      "2\n",
      "2\n",
      "2\n",
      "2\n",
      "0\n",
      "0\n",
      "0\n",
      "0\n",
      "1\n",
      "1\n",
      "0\n",
      "0\n",
      "2\n",
      "2\n",
      "0\n",
      "0\n",
      "1\n",
      "1\n",
      "1\n",
      "1\n",
      "1\n",
      "1\n"
     ]
    }
   ],
   "source": [
    "clas = y_train[np.argsort(cdist(X_test, X_train, metric='euclidean' ))[:,:2]]\n",
    "for i in clas:\n",
    "    for j in i:\n",
    "        print(j)"
   ]
  },
  {
   "cell_type": "code",
   "execution_count": 181,
   "metadata": {},
   "outputs": [],
   "source": [
    "dist, ind = tree.query(X_test, k=3)"
   ]
  },
  {
   "cell_type": "code",
   "execution_count": 182,
   "metadata": {},
   "outputs": [
    {
     "data": {
      "text/plain": [
       "array([[ 91,  59,  42],\n",
       "       [ 51,   5,  74],\n",
       "       [ 68, 112,  95],\n",
       "       [ 49, 118,  18],\n",
       "       [ 61,  98,  84],\n",
       "       [ 38,  83,  28],\n",
       "       [ 82,  14, 101],\n",
       "       [ 12,   8,   1],\n",
       "       [105,  86,  15],\n",
       "       [ 83,  28,  23],\n",
       "       [ 90,  32, 106],\n",
       "       [ 59,  91,  67],\n",
       "       [ 94,  23,  13],\n",
       "       [111,  82,  75],\n",
       "       [ 52,   0,  58]])"
      ]
     },
     "execution_count": 182,
     "metadata": {},
     "output_type": "execute_result"
    }
   ],
   "source": [
    "ind"
   ]
  },
  {
   "cell_type": "code",
   "execution_count": 6,
   "metadata": {},
   "outputs": [],
   "source": [
    "clf = KNeighborsClassifier(n_neighbors=2)\n",
    "my_clf = MyKNeighborsClassifier(n_neighbors=2)"
   ]
  },
  {
   "cell_type": "code",
   "execution_count": 7,
   "metadata": {},
   "outputs": [
    {
     "name": "stdout",
     "output_type": "stream",
     "text": [
      "CPU times: user 4 ms, sys: 0 ns, total: 4 ms\n",
      "Wall time: 86.3 ms\n"
     ]
    },
    {
     "data": {
      "text/plain": [
       "KNeighborsClassifier(algorithm='auto', leaf_size=30, metric='minkowski',\n",
       "           metric_params=None, n_jobs=None, n_neighbors=2, p=2,\n",
       "           weights='uniform')"
      ]
     },
     "execution_count": 7,
     "metadata": {},
     "output_type": "execute_result"
    }
   ],
   "source": [
    "%time clf.fit(X_train, y_train)"
   ]
  },
  {
   "cell_type": "code",
   "execution_count": 8,
   "metadata": {},
   "outputs": [
    {
     "name": "stdout",
     "output_type": "stream",
     "text": [
      "CPU times: user 0 ns, sys: 0 ns, total: 0 ns\n",
      "Wall time: 154 µs\n"
     ]
    }
   ],
   "source": [
    "%time my_clf.fit(X_train, y_train)"
   ]
  },
  {
   "cell_type": "code",
   "execution_count": 9,
   "metadata": {},
   "outputs": [
    {
     "name": "stdout",
     "output_type": "stream",
     "text": [
      "CPU times: user 4 ms, sys: 0 ns, total: 4 ms\n",
      "Wall time: 3.05 ms\n"
     ]
    },
    {
     "data": {
      "text/plain": [
       "array([0, 2, 0, 2, 1, 1, 0, 0, 1, 0, 2, 2, 1, 1, 1])"
      ]
     },
     "execution_count": 9,
     "metadata": {},
     "output_type": "execute_result"
    }
   ],
   "source": [
    "%time clf.predict(X_test)"
   ]
  },
  {
   "cell_type": "code",
   "execution_count": 10,
   "metadata": {},
   "outputs": [
    {
     "name": "stdout",
     "output_type": "stream",
     "text": [
      "CPU times: user 0 ns, sys: 0 ns, total: 0 ns\n",
      "Wall time: 1.38 ms\n"
     ]
    },
    {
     "data": {
      "text/plain": [
       "array([0, 2, 0, 2, 1, 1, 0, 0, 1, 0, 2, 2, 1, 1, 1])"
      ]
     },
     "execution_count": 10,
     "metadata": {},
     "output_type": "execute_result"
    }
   ],
   "source": [
    "%time my_clf.predict(X_test)"
   ]
  },
  {
   "cell_type": "code",
   "execution_count": 11,
   "metadata": {},
   "outputs": [
    {
     "name": "stdout",
     "output_type": "stream",
     "text": [
      "CPU times: user 4 ms, sys: 0 ns, total: 4 ms\n",
      "Wall time: 3.04 ms\n"
     ]
    },
    {
     "data": {
      "text/plain": [
       "array([[1. , 0. , 0. ],\n",
       "       [0. , 0. , 1. ],\n",
       "       [1. , 0. , 0. ],\n",
       "       [0. , 0. , 1. ],\n",
       "       [0. , 1. , 0. ],\n",
       "       [0. , 1. , 0. ],\n",
       "       [1. , 0. , 0. ],\n",
       "       [1. , 0. , 0. ],\n",
       "       [0. , 1. , 0. ],\n",
       "       [1. , 0. , 0. ],\n",
       "       [0. , 0. , 1. ],\n",
       "       [0. , 0. , 1. ],\n",
       "       [0. , 0.5, 0.5],\n",
       "       [0. , 1. , 0. ],\n",
       "       [0. , 1. , 0. ]])"
      ]
     },
     "execution_count": 11,
     "metadata": {},
     "output_type": "execute_result"
    }
   ],
   "source": [
    "%time clf.predict_proba(X_test)"
   ]
  },
  {
   "cell_type": "code",
   "execution_count": 12,
   "metadata": {},
   "outputs": [
    {
     "name": "stdout",
     "output_type": "stream",
     "text": [
      "CPU times: user 8 ms, sys: 0 ns, total: 8 ms\n",
      "Wall time: 3.17 ms\n"
     ]
    },
    {
     "data": {
      "text/plain": [
       "array([[1. , 0. , 0. ],\n",
       "       [0. , 0. , 1. ],\n",
       "       [1. , 0. , 0. ],\n",
       "       [0. , 0. , 1. ],\n",
       "       [0. , 1. , 0. ],\n",
       "       [0. , 1. , 0. ],\n",
       "       [1. , 0. , 0. ],\n",
       "       [1. , 0. , 0. ],\n",
       "       [0. , 1. , 0. ],\n",
       "       [1. , 0. , 0. ],\n",
       "       [0. , 0. , 1. ],\n",
       "       [0. , 0. , 1. ],\n",
       "       [0. , 0.5, 0.5],\n",
       "       [0. , 1. , 0. ],\n",
       "       [0. , 1. , 0. ]], dtype=float16)"
      ]
     },
     "execution_count": 12,
     "metadata": {},
     "output_type": "execute_result"
    }
   ],
   "source": [
    "%time my_clf.predict_proba(X_test)"
   ]
  },
  {
   "cell_type": "code",
   "execution_count": 13,
   "metadata": {},
   "outputs": [
    {
     "data": {
      "text/plain": [
       "0.9333333333333333"
      ]
     },
     "execution_count": 13,
     "metadata": {},
     "output_type": "execute_result"
    }
   ],
   "source": [
    "clf.score(X_test, y_test)"
   ]
  },
  {
   "cell_type": "code",
   "execution_count": 14,
   "metadata": {},
   "outputs": [
    {
     "data": {
      "text/plain": [
       "0.9333333333333333"
      ]
     },
     "execution_count": 14,
     "metadata": {},
     "output_type": "execute_result"
    }
   ],
   "source": [
    "my_clf.score(X_test, y_test)"
   ]
  },
  {
   "cell_type": "markdown",
   "metadata": {},
   "source": [
    "Задание 3"
   ]
  },
  {
   "cell_type": "code",
   "execution_count": 299,
   "metadata": {},
   "outputs": [
    {
     "name": "stdout",
     "output_type": "stream",
     "text": [
      "gzip: train-images-idx3-ubyte already exists; do you wish to overwrite (y or n)? ^C\n"
     ]
    }
   ],
   "source": [
    "!gunzip t*-ubyte.gz"
   ]
  },
  {
   "cell_type": "markdown",
   "metadata": {},
   "source": [
    "**MNIST**"
   ]
  },
  {
   "cell_type": "code",
   "execution_count": 15,
   "metadata": {},
   "outputs": [],
   "source": [
    "from mlxtend.data import loadlocal_mnist"
   ]
  },
  {
   "cell_type": "code",
   "execution_count": 16,
   "metadata": {},
   "outputs": [],
   "source": [
    "X, y = loadlocal_mnist(\n",
    "        images_path='train-images-idx3-ubyte', \n",
    "        labels_path='train-labels-idx1-ubyte')"
   ]
  },
  {
   "cell_type": "code",
   "execution_count": null,
   "metadata": {},
   "outputs": [],
   "source": []
  },
  {
   "cell_type": "code",
   "execution_count": 17,
   "metadata": {},
   "outputs": [],
   "source": [
    "X_train, X_test, y_train, y_test = train_test_split(X, y, test_size=0.01, stratify=y)"
   ]
  },
  {
   "cell_type": "code",
   "execution_count": 18,
   "metadata": {},
   "outputs": [],
   "source": [
    "clf = KNeighborsClassifier(n_neighbors=2)\n",
    "my_clf = MyKNeighborsClassifier(n_neighbors=2)"
   ]
  },
  {
   "cell_type": "code",
   "execution_count": 19,
   "metadata": {},
   "outputs": [
    {
     "name": "stdout",
     "output_type": "stream",
     "text": [
      "CPU times: user 15.5 s, sys: 104 ms, total: 15.6 s\n",
      "Wall time: 15.5 s\n"
     ]
    },
    {
     "data": {
      "text/plain": [
       "KNeighborsClassifier(algorithm='auto', leaf_size=30, metric='minkowski',\n",
       "           metric_params=None, n_jobs=None, n_neighbors=2, p=2,\n",
       "           weights='uniform')"
      ]
     },
     "execution_count": 19,
     "metadata": {},
     "output_type": "execute_result"
    }
   ],
   "source": [
    "%time clf.fit(X_train, y_train)"
   ]
  },
  {
   "cell_type": "code",
   "execution_count": 145,
   "metadata": {},
   "outputs": [
    {
     "name": "stdout",
     "output_type": "stream",
     "text": [
      "CPU times: user 8 ms, sys: 44 ms, total: 52 ms\n",
      "Wall time: 142 ms\n"
     ]
    }
   ],
   "source": [
    "%time my_clf.fit(X_train, y_train)"
   ]
  },
  {
   "cell_type": "code",
   "execution_count": 146,
   "metadata": {},
   "outputs": [
    {
     "name": "stdout",
     "output_type": "stream",
     "text": [
      "CPU times: user 47.3 s, sys: 24 ms, total: 47.4 s\n",
      "Wall time: 47.4 s\n"
     ]
    },
    {
     "data": {
      "text/plain": [
       "array([0, 7, 0, 5, 7, 7, 0, 9, 4, 3, 0, 2, 3, 0, 4, 2, 7, 5, 0, 9, 2, 8,\n",
       "       5, 3, 7, 0, 1, 6, 5, 5, 9, 7, 6, 4, 2, 0, 3, 4, 5, 8, 5, 3, 7, 4,\n",
       "       9, 3, 1, 4, 4, 9, 9, 3, 6, 2, 0, 2, 6, 9, 4, 1, 6, 5, 9, 8, 9, 9,\n",
       "       3, 0, 3, 1, 1, 0, 3, 6, 1, 0, 9, 6, 6, 1, 7, 6, 7, 7, 7, 2, 4, 7,\n",
       "       6, 6, 8, 0, 9, 1, 4, 9, 2, 0, 5, 8, 9, 3, 7, 0, 6, 8, 2, 9, 2, 9,\n",
       "       7, 2, 4, 9, 5, 7, 0, 1, 0, 3, 6, 8, 8, 1, 0, 4, 9, 0, 9, 5, 9, 2,\n",
       "       9, 1, 3, 0, 0, 6, 4, 4, 2, 6, 1, 3, 9, 1, 1, 5, 4, 6, 0, 0, 0, 3,\n",
       "       3, 9, 4, 8, 8, 0, 7, 2, 3, 7, 1, 4, 0, 0, 8, 8, 9, 4, 5, 6, 5, 7,\n",
       "       0, 7, 8, 8, 1, 1, 4, 3, 4, 0, 5, 0, 7, 3, 6, 6, 4, 5, 8, 2, 7, 4,\n",
       "       0, 1, 8, 0, 2, 2, 7, 0, 7, 2, 5, 4, 1, 8, 5, 5, 0, 0, 3, 4, 6, 3,\n",
       "       4, 2, 7, 1, 1, 2, 1, 9, 1, 4, 4, 3, 2, 0, 9, 8, 1, 2, 7, 8, 7, 8,\n",
       "       9, 2, 8, 9, 6, 9, 6, 5, 0, 5, 1, 9, 2, 0, 8, 6, 3, 4, 6, 8, 1, 6,\n",
       "       8, 3, 7, 2, 5, 3, 7, 1, 4, 5, 9, 2, 5, 5, 8, 6, 0, 2, 4, 4, 7, 2,\n",
       "       9, 7, 7, 1, 0, 4, 1, 5, 9, 1, 6, 6, 1, 9, 9, 4, 0, 6, 7, 1, 6, 2,\n",
       "       8, 7, 3, 2, 3, 2, 1, 9, 8, 5, 8, 1, 2, 1, 6, 4, 0, 4, 6, 1, 3, 4,\n",
       "       3, 9, 6, 4, 2, 5, 8, 7, 9, 8, 0, 1, 7, 1, 3, 1, 5, 4, 2, 1, 0, 7,\n",
       "       6, 5, 8, 0, 7, 3, 1, 6, 1, 3, 6, 9, 1, 3, 3, 7, 3, 4, 6, 5, 2, 1,\n",
       "       5, 1, 5, 4, 8, 1, 9, 3, 0, 6, 4, 2, 6, 7, 7, 3, 1, 5, 1, 3, 7, 8,\n",
       "       5, 9, 7, 4, 0, 3, 0, 3, 3, 3, 7, 1, 8, 3, 2, 8, 1, 9, 7, 2, 4, 3,\n",
       "       6, 1, 0, 4, 7, 3, 5, 8, 9, 7, 6, 1, 0, 1, 2, 1, 5, 1, 2, 1, 0, 0,\n",
       "       0, 5, 6, 2, 5, 9, 8, 9, 5, 7, 6, 8, 7, 4, 3, 0, 2, 1, 1, 4, 4, 3,\n",
       "       7, 3, 5, 9, 2, 3, 2, 3, 7, 9, 5, 2, 8, 7, 7, 2, 4, 4, 0, 1, 6, 2,\n",
       "       7, 6, 2, 6, 7, 0, 8, 6, 5, 2, 3, 2, 3, 7, 7, 2, 8, 4, 8, 1, 3, 5,\n",
       "       4, 1, 6, 5, 3, 5, 7, 7, 5, 1, 7, 3, 8, 6, 8, 5, 7, 7, 2, 5, 7, 1,\n",
       "       6, 0, 6, 9, 6, 6, 8, 6, 1, 7, 5, 3, 2, 4, 2, 8, 5, 0, 5, 4, 8, 2,\n",
       "       8, 5, 3, 7, 1, 1, 5, 0, 2, 6, 3, 5, 1, 2, 8, 1, 4, 7, 8, 8, 9, 6,\n",
       "       9, 7, 4, 8, 3, 5, 8, 1, 4, 8, 9, 7, 0, 1, 1, 6, 9, 1, 5, 6, 7, 4,\n",
       "       2, 1, 3, 7, 9, 6], dtype=uint8)"
      ]
     },
     "execution_count": 146,
     "metadata": {},
     "output_type": "execute_result"
    }
   ],
   "source": [
    "%time clf.predict(X_test)"
   ]
  },
  {
   "cell_type": "code",
   "execution_count": 147,
   "metadata": {},
   "outputs": [
    {
     "name": "stdout",
     "output_type": "stream",
     "text": [
      "CPU times: user 29.8 s, sys: 916 ms, total: 30.8 s\n",
      "Wall time: 41.7 s\n"
     ]
    },
    {
     "data": {
      "text/plain": [
       "array([0, 7, 0, 5, 7, 7, 0, 9, 4, 3, 0, 2, 3, 0, 4, 2, 7, 5, 0, 9, 2, 8,\n",
       "       5, 3, 7, 0, 1, 6, 5, 5, 9, 7, 6, 4, 2, 0, 3, 4, 5, 8, 5, 3, 7, 4,\n",
       "       9, 3, 1, 4, 4, 9, 9, 3, 6, 2, 0, 2, 6, 9, 4, 1, 6, 5, 9, 8, 9, 9,\n",
       "       3, 0, 3, 1, 1, 0, 3, 6, 1, 0, 9, 6, 6, 1, 7, 6, 7, 7, 7, 2, 4, 7,\n",
       "       6, 6, 8, 0, 9, 1, 4, 9, 2, 0, 5, 8, 9, 3, 7, 0, 6, 8, 2, 9, 2, 9,\n",
       "       7, 2, 4, 9, 5, 7, 0, 1, 0, 3, 6, 8, 8, 1, 0, 4, 9, 0, 9, 5, 9, 2,\n",
       "       9, 1, 3, 0, 0, 6, 4, 4, 2, 6, 1, 3, 9, 1, 1, 5, 4, 6, 0, 0, 0, 3,\n",
       "       3, 9, 4, 8, 8, 0, 7, 2, 3, 7, 1, 4, 0, 0, 8, 8, 9, 4, 5, 6, 5, 7,\n",
       "       0, 7, 8, 8, 1, 1, 4, 3, 4, 0, 5, 0, 7, 3, 6, 6, 4, 5, 8, 2, 7, 4,\n",
       "       0, 1, 8, 0, 2, 2, 7, 0, 7, 2, 5, 4, 1, 8, 5, 5, 0, 0, 3, 4, 6, 3,\n",
       "       4, 2, 7, 1, 1, 2, 1, 9, 1, 4, 4, 3, 2, 0, 9, 8, 1, 2, 7, 8, 7, 8,\n",
       "       9, 2, 8, 9, 6, 9, 6, 5, 0, 5, 1, 9, 2, 0, 8, 6, 3, 4, 6, 8, 1, 6,\n",
       "       8, 3, 7, 2, 5, 3, 7, 1, 4, 5, 9, 2, 5, 5, 8, 6, 0, 2, 4, 4, 7, 2,\n",
       "       9, 7, 7, 1, 0, 4, 1, 5, 9, 1, 6, 6, 1, 9, 9, 4, 0, 6, 7, 1, 6, 2,\n",
       "       8, 7, 3, 2, 3, 2, 1, 9, 8, 5, 8, 1, 2, 1, 6, 4, 0, 4, 6, 1, 3, 4,\n",
       "       3, 9, 6, 4, 2, 5, 8, 7, 9, 8, 0, 1, 7, 1, 3, 1, 5, 4, 2, 1, 0, 7,\n",
       "       6, 5, 8, 0, 7, 3, 1, 6, 1, 3, 6, 9, 1, 3, 3, 7, 3, 4, 6, 5, 2, 1,\n",
       "       5, 1, 5, 4, 8, 1, 9, 3, 0, 6, 4, 2, 6, 7, 7, 3, 1, 5, 1, 3, 7, 8,\n",
       "       5, 9, 7, 4, 0, 3, 0, 3, 3, 3, 7, 1, 8, 3, 2, 8, 1, 9, 7, 2, 4, 3,\n",
       "       6, 1, 0, 4, 7, 3, 5, 8, 9, 7, 6, 1, 0, 1, 2, 1, 5, 1, 2, 1, 0, 0,\n",
       "       0, 5, 6, 2, 5, 9, 8, 9, 5, 7, 6, 8, 7, 4, 3, 0, 2, 1, 1, 4, 4, 3,\n",
       "       7, 3, 5, 9, 2, 3, 2, 3, 7, 9, 5, 2, 8, 7, 7, 2, 4, 4, 0, 1, 6, 2,\n",
       "       7, 6, 2, 6, 7, 0, 8, 6, 5, 2, 3, 2, 3, 7, 7, 2, 8, 4, 8, 1, 3, 5,\n",
       "       4, 1, 6, 5, 3, 5, 7, 7, 5, 1, 7, 3, 8, 6, 8, 5, 7, 7, 2, 5, 7, 1,\n",
       "       6, 0, 6, 9, 6, 6, 8, 6, 1, 7, 5, 3, 2, 4, 2, 8, 5, 0, 5, 4, 8, 2,\n",
       "       8, 5, 3, 7, 1, 1, 5, 0, 2, 6, 3, 5, 1, 2, 8, 1, 4, 7, 8, 8, 9, 6,\n",
       "       9, 7, 4, 8, 3, 5, 8, 1, 4, 8, 9, 7, 0, 1, 1, 6, 9, 1, 5, 6, 7, 4,\n",
       "       2, 1, 3, 7, 9, 6], dtype=uint8)"
      ]
     },
     "execution_count": 147,
     "metadata": {},
     "output_type": "execute_result"
    }
   ],
   "source": [
    "%time my_clf.predict(X_test)"
   ]
  },
  {
   "cell_type": "code",
   "execution_count": 148,
   "metadata": {},
   "outputs": [
    {
     "name": "stdout",
     "output_type": "stream",
     "text": [
      "CPU times: user 47.2 s, sys: 28 ms, total: 47.3 s\n",
      "Wall time: 49.2 s\n"
     ]
    },
    {
     "data": {
      "text/plain": [
       "array([[1., 0., 0., ..., 0., 0., 0.],\n",
       "       [0., 0., 0., ..., 1., 0., 0.],\n",
       "       [1., 0., 0., ..., 0., 0., 0.],\n",
       "       ...,\n",
       "       [0., 0., 0., ..., 1., 0., 0.],\n",
       "       [0., 0., 0., ..., 0., 0., 1.],\n",
       "       [0., 0., 0., ..., 0., 0., 0.]])"
      ]
     },
     "execution_count": 148,
     "metadata": {},
     "output_type": "execute_result"
    }
   ],
   "source": [
    "%time clf.predict_proba(X_test)"
   ]
  },
  {
   "cell_type": "code",
   "execution_count": 149,
   "metadata": {},
   "outputs": [
    {
     "name": "stdout",
     "output_type": "stream",
     "text": [
      "CPU times: user 29 s, sys: 356 ms, total: 29.3 s\n",
      "Wall time: 29.6 s\n"
     ]
    },
    {
     "data": {
      "text/plain": [
       "array([[1., 0., 0., ..., 0., 0., 0.],\n",
       "       [0., 0., 0., ..., 1., 0., 0.],\n",
       "       [1., 0., 0., ..., 0., 0., 0.],\n",
       "       ...,\n",
       "       [0., 0., 0., ..., 1., 0., 0.],\n",
       "       [0., 0., 0., ..., 0., 0., 1.],\n",
       "       [0., 0., 0., ..., 0., 0., 0.]])"
      ]
     },
     "execution_count": 149,
     "metadata": {},
     "output_type": "execute_result"
    }
   ],
   "source": [
    "%time my_clf.predict_proba(X_test)"
   ]
  },
  {
   "cell_type": "code",
   "execution_count": 150,
   "metadata": {},
   "outputs": [
    {
     "data": {
      "text/plain": [
       "0.955"
      ]
     },
     "execution_count": 150,
     "metadata": {},
     "output_type": "execute_result"
    }
   ],
   "source": [
    "clf.score(X_test, y_test)"
   ]
  },
  {
   "cell_type": "code",
   "execution_count": 151,
   "metadata": {},
   "outputs": [
    {
     "data": {
      "text/plain": [
       "0.955"
      ]
     },
     "execution_count": 151,
     "metadata": {},
     "output_type": "execute_result"
    }
   ],
   "source": [
    "my_clf.score(X_test, y_test)"
   ]
  },
  {
   "cell_type": "markdown",
   "metadata": {},
   "source": [
    "Задание 4"
   ]
  },
  {
   "cell_type": "code",
   "execution_count": 287,
   "metadata": {},
   "outputs": [],
   "source": [
    "clf = KNeighborsClassifier(n_neighbors=2, algorithm='kd_tree')\n",
    "my_clf = MyKNeighborsClassifier(n_neighbors=2, algorithm='kd_tree')"
   ]
  },
  {
   "cell_type": "code",
   "execution_count": 288,
   "metadata": {},
   "outputs": [],
   "source": [
    "X_train, X_test, y_train, y_test = train_test_split(X, y, test_size=0.01, stratify=y)"
   ]
  },
  {
   "cell_type": "code",
   "execution_count": 289,
   "metadata": {},
   "outputs": [
    {
     "name": "stdout",
     "output_type": "stream",
     "text": [
      "CPU times: user 14.2 s, sys: 80 ms, total: 14.3 s\n",
      "Wall time: 14.3 s\n"
     ]
    },
    {
     "data": {
      "text/plain": [
       "KNeighborsClassifier(algorithm='kd_tree', leaf_size=30, metric='minkowski',\n",
       "           metric_params=None, n_jobs=None, n_neighbors=2, p=2,\n",
       "           weights='uniform')"
      ]
     },
     "execution_count": 289,
     "metadata": {},
     "output_type": "execute_result"
    }
   ],
   "source": [
    "%time clf.fit(X_train, y_train)"
   ]
  },
  {
   "cell_type": "code",
   "execution_count": 290,
   "metadata": {},
   "outputs": [
    {
     "name": "stdout",
     "output_type": "stream",
     "text": [
      "CPU times: user 0 ns, sys: 0 ns, total: 0 ns\n",
      "Wall time: 385 µs\n"
     ]
    }
   ],
   "source": [
    "%time my_clf.fit(X_train, y_train)"
   ]
  },
  {
   "cell_type": "code",
   "execution_count": 291,
   "metadata": {},
   "outputs": [
    {
     "name": "stdout",
     "output_type": "stream",
     "text": [
      "CPU times: user 47 s, sys: 4 ms, total: 47 s\n",
      "Wall time: 47 s\n"
     ]
    },
    {
     "data": {
      "text/plain": [
       "array([1, 6, 5, 5, 8, 9, 4, 0, 2, 6, 4, 7, 9, 9, 3, 3, 4, 7, 6, 2, 2, 3,\n",
       "       2, 6, 5, 1, 7, 0, 8, 7, 1, 0, 7, 7, 1, 9, 2, 2, 6, 0, 4, 1, 3, 8,\n",
       "       4, 9, 8, 8, 0, 6, 0, 9, 5, 9, 5, 1, 2, 2, 0, 9, 6, 7, 4, 9, 4, 2,\n",
       "       5, 5, 8, 5, 0, 4, 1, 4, 1, 9, 9, 8, 2, 2, 0, 0, 8, 9, 4, 9, 9, 5,\n",
       "       7, 6, 9, 9, 0, 2, 7, 9, 0, 0, 2, 2, 4, 1, 8, 3, 3, 8, 2, 5, 8, 4,\n",
       "       0, 5, 0, 1, 5, 9, 0, 6, 6, 6, 4, 4, 5, 8, 3, 3, 3, 4, 3, 6, 4, 3,\n",
       "       7, 6, 9, 4, 0, 4, 0, 6, 3, 0, 3, 3, 7, 6, 8, 6, 5, 4, 8, 4, 1, 3,\n",
       "       8, 5, 9, 7, 4, 3, 1, 1, 8, 2, 0, 7, 4, 7, 2, 9, 5, 4, 7, 8, 7, 7,\n",
       "       5, 0, 8, 0, 6, 6, 9, 1, 1, 8, 7, 8, 3, 6, 9, 9, 4, 3, 6, 7, 2, 6,\n",
       "       2, 1, 0, 3, 4, 8, 9, 3, 6, 0, 5, 4, 0, 3, 4, 0, 8, 4, 3, 0, 0, 3,\n",
       "       1, 6, 1, 9, 4, 6, 7, 1, 8, 9, 1, 6, 1, 5, 2, 1, 1, 1, 9, 2, 4, 1,\n",
       "       4, 4, 5, 3, 8, 6, 3, 7, 2, 1, 3, 0, 2, 2, 5, 5, 3, 2, 9, 6, 1, 8,\n",
       "       6, 7, 6, 5, 1, 7, 7, 7, 4, 0, 8, 3, 1, 9, 7, 9, 2, 0, 2, 4, 7, 5,\n",
       "       2, 3, 3, 4, 1, 3, 1, 7, 7, 7, 9, 7, 3, 9, 1, 3, 2, 1, 2, 0, 1, 5,\n",
       "       6, 2, 1, 5, 4, 8, 0, 1, 7, 0, 1, 8, 4, 3, 8, 1, 5, 3, 8, 1, 6, 3,\n",
       "       5, 4, 9, 2, 8, 5, 1, 6, 3, 2, 5, 6, 1, 2, 6, 4, 3, 3, 1, 7, 4, 6,\n",
       "       0, 7, 1, 2, 1, 7, 0, 3, 6, 8, 4, 7, 0, 2, 4, 9, 8, 5, 6, 9, 7, 8,\n",
       "       6, 0, 5, 0, 1, 1, 5, 7, 1, 5, 7, 3, 5, 8, 3, 3, 8, 3, 7, 6, 5, 8,\n",
       "       8, 8, 5, 1, 6, 0, 2, 1, 8, 2, 4, 3, 9, 0, 1, 8, 4, 4, 2, 5, 5, 2,\n",
       "       7, 2, 4, 6, 9, 1, 3, 0, 4, 2, 1, 1, 1, 9, 5, 0, 0, 6, 8, 1, 1, 9,\n",
       "       5, 4, 5, 6, 8, 7, 9, 1, 4, 3, 9, 4, 4, 9, 4, 0, 1, 5, 1, 0, 2, 0,\n",
       "       6, 0, 5, 3, 9, 6, 9, 2, 3, 2, 6, 6, 7, 0, 5, 1, 0, 7, 8, 0, 5, 4,\n",
       "       4, 7, 1, 3, 0, 8, 4, 4, 6, 3, 1, 2, 8, 2, 0, 8, 4, 9, 6, 6, 3, 1,\n",
       "       0, 8, 2, 3, 5, 1, 3, 7, 7, 5, 2, 6, 5, 3, 9, 7, 7, 2, 3, 7, 7, 4,\n",
       "       0, 7, 2, 2, 2, 1, 2, 7, 1, 5, 7, 9, 9, 3, 7, 9, 8, 8, 7, 7, 6, 4,\n",
       "       1, 6, 7, 9, 1, 8, 1, 5, 4, 7, 7, 4, 7, 7, 1, 5, 9, 2, 8, 5, 3, 3,\n",
       "       2, 3, 8, 7, 2, 0, 8, 2, 6, 9, 2, 9, 9, 2, 4, 5, 5, 0, 0, 5, 3, 7,\n",
       "       7, 9, 6, 0, 2, 6], dtype=uint8)"
      ]
     },
     "execution_count": 291,
     "metadata": {},
     "output_type": "execute_result"
    }
   ],
   "source": [
    "%time clf.predict(X_test)"
   ]
  },
  {
   "cell_type": "code",
   "execution_count": 292,
   "metadata": {},
   "outputs": [
    {
     "name": "stdout",
     "output_type": "stream",
     "text": [
      "CPU times: user 1min 12s, sys: 308 ms, total: 1min 13s\n",
      "Wall time: 1min 13s\n"
     ]
    },
    {
     "data": {
      "text/plain": [
       "array([1, 6, 5, 5, 8, 9, 4, 0, 2, 6, 4, 7, 9, 9, 3, 3, 4, 7, 6, 2, 2, 3,\n",
       "       2, 6, 5, 1, 7, 0, 8, 7, 1, 0, 7, 7, 1, 9, 2, 2, 6, 0, 4, 1, 3, 8,\n",
       "       4, 9, 8, 8, 0, 6, 0, 9, 5, 9, 5, 1, 2, 2, 0, 9, 6, 7, 4, 9, 4, 2,\n",
       "       5, 5, 8, 5, 0, 4, 1, 4, 1, 9, 9, 8, 2, 2, 0, 0, 8, 9, 4, 9, 9, 5,\n",
       "       7, 6, 9, 9, 0, 2, 7, 9, 0, 0, 2, 2, 4, 1, 8, 3, 3, 8, 2, 5, 8, 4,\n",
       "       0, 5, 0, 1, 5, 9, 0, 6, 6, 6, 4, 4, 5, 8, 3, 3, 3, 4, 3, 6, 4, 3,\n",
       "       7, 6, 9, 4, 0, 4, 0, 6, 3, 0, 3, 3, 7, 6, 8, 6, 5, 4, 8, 4, 1, 3,\n",
       "       8, 5, 9, 7, 4, 3, 1, 1, 8, 2, 0, 7, 4, 7, 2, 9, 5, 4, 7, 8, 7, 7,\n",
       "       5, 0, 8, 0, 6, 6, 9, 1, 1, 8, 7, 8, 3, 6, 9, 9, 4, 3, 6, 7, 2, 6,\n",
       "       2, 1, 0, 3, 4, 8, 9, 3, 6, 0, 5, 4, 0, 3, 4, 0, 8, 4, 3, 0, 0, 3,\n",
       "       1, 6, 1, 9, 4, 6, 7, 1, 8, 9, 1, 6, 1, 5, 2, 1, 1, 1, 9, 2, 4, 1,\n",
       "       4, 4, 5, 3, 8, 6, 3, 7, 2, 1, 3, 0, 2, 2, 5, 5, 3, 2, 9, 6, 1, 8,\n",
       "       6, 7, 6, 5, 1, 7, 7, 7, 4, 0, 8, 3, 1, 9, 7, 9, 2, 0, 2, 4, 7, 5,\n",
       "       2, 3, 3, 4, 1, 3, 1, 7, 7, 7, 9, 7, 3, 9, 1, 3, 2, 1, 2, 0, 1, 5,\n",
       "       6, 2, 1, 5, 4, 8, 0, 1, 7, 0, 1, 8, 4, 3, 8, 1, 5, 3, 8, 1, 6, 3,\n",
       "       5, 4, 9, 2, 8, 5, 1, 6, 3, 2, 5, 6, 1, 2, 6, 4, 3, 3, 1, 7, 4, 6,\n",
       "       0, 7, 1, 2, 1, 7, 0, 3, 6, 8, 4, 7, 0, 2, 4, 9, 8, 5, 6, 9, 7, 8,\n",
       "       6, 0, 5, 0, 1, 1, 5, 7, 1, 5, 7, 3, 5, 8, 3, 3, 8, 3, 7, 6, 5, 8,\n",
       "       8, 8, 5, 1, 6, 0, 2, 1, 8, 2, 4, 3, 9, 0, 1, 8, 4, 4, 2, 5, 5, 2,\n",
       "       7, 2, 4, 6, 9, 1, 3, 0, 4, 2, 1, 1, 1, 9, 5, 0, 0, 6, 8, 1, 1, 9,\n",
       "       5, 4, 5, 6, 8, 7, 9, 1, 4, 3, 9, 4, 4, 9, 4, 0, 1, 5, 1, 0, 2, 0,\n",
       "       6, 0, 5, 3, 9, 6, 9, 2, 3, 2, 6, 6, 7, 0, 5, 1, 0, 7, 8, 0, 5, 4,\n",
       "       4, 7, 1, 3, 0, 8, 4, 4, 6, 3, 1, 2, 8, 2, 0, 8, 4, 9, 6, 6, 3, 1,\n",
       "       0, 8, 2, 3, 5, 1, 3, 7, 7, 5, 2, 6, 5, 3, 9, 7, 7, 2, 3, 7, 7, 4,\n",
       "       0, 7, 2, 2, 2, 1, 2, 7, 1, 5, 7, 9, 9, 3, 7, 9, 8, 8, 7, 7, 6, 4,\n",
       "       1, 6, 7, 9, 1, 8, 1, 5, 4, 7, 7, 4, 7, 7, 1, 5, 9, 2, 8, 5, 3, 3,\n",
       "       2, 3, 8, 7, 2, 0, 8, 2, 6, 9, 2, 9, 9, 2, 4, 5, 5, 0, 0, 5, 3, 7,\n",
       "       7, 9, 6, 0, 2, 6], dtype=uint8)"
      ]
     },
     "execution_count": 292,
     "metadata": {},
     "output_type": "execute_result"
    }
   ],
   "source": [
    "%time my_clf.predict(X_test)"
   ]
  },
  {
   "cell_type": "code",
   "execution_count": 293,
   "metadata": {},
   "outputs": [
    {
     "name": "stdout",
     "output_type": "stream",
     "text": [
      "CPU times: user 54.6 s, sys: 56 ms, total: 54.6 s\n",
      "Wall time: 54.7 s\n"
     ]
    },
    {
     "data": {
      "text/plain": [
       "array([[0., 1., 0., ..., 0., 0., 0.],\n",
       "       [0., 0., 0., ..., 0., 0., 0.],\n",
       "       [0., 0., 0., ..., 0., 0., 0.],\n",
       "       ...,\n",
       "       [1., 0., 0., ..., 0., 0., 0.],\n",
       "       [0., 0., 1., ..., 0., 0., 0.],\n",
       "       [0., 0., 0., ..., 0., 0., 0.]])"
      ]
     },
     "execution_count": 293,
     "metadata": {},
     "output_type": "execute_result"
    }
   ],
   "source": [
    "%time clf.predict_proba(X_test)"
   ]
  },
  {
   "cell_type": "code",
   "execution_count": 294,
   "metadata": {},
   "outputs": [
    {
     "name": "stdout",
     "output_type": "stream",
     "text": [
      "CPU times: user 1min 10s, sys: 192 ms, total: 1min 10s\n",
      "Wall time: 1min 10s\n"
     ]
    },
    {
     "data": {
      "text/plain": [
       "array([[0., 1., 0., ..., 0., 0., 0.],\n",
       "       [0., 0., 0., ..., 0., 0., 0.],\n",
       "       [0., 0., 0., ..., 0., 0., 0.],\n",
       "       ...,\n",
       "       [1., 0., 0., ..., 0., 0., 0.],\n",
       "       [0., 0., 1., ..., 0., 0., 0.],\n",
       "       [0., 0., 0., ..., 0., 0., 0.]], dtype=float16)"
      ]
     },
     "execution_count": 294,
     "metadata": {},
     "output_type": "execute_result"
    }
   ],
   "source": [
    "%time my_clf.predict_proba(X_test)"
   ]
  },
  {
   "cell_type": "code",
   "execution_count": 295,
   "metadata": {},
   "outputs": [
    {
     "data": {
      "text/plain": [
       "0.9633333333333334"
      ]
     },
     "execution_count": 295,
     "metadata": {},
     "output_type": "execute_result"
    }
   ],
   "source": [
    "clf.score(X_test, y_test)"
   ]
  },
  {
   "cell_type": "code",
   "execution_count": null,
   "metadata": {},
   "outputs": [],
   "source": [
    "my_clf.score(X_test, y_test)"
   ]
  },
  {
   "cell_type": "markdown",
   "metadata": {},
   "source": [
    "Задание 5"
   ]
  },
  {
   "cell_type": "code",
   "execution_count": null,
   "metadata": {},
   "outputs": [],
   "source": [
    "seaborn\n",
    "matplotlib\n",
    "train_test_split\n",
    "Pipelin%load_ext e (from sklearn.pipeline import Pipeline)\n",
    "StandardScaler (from sklearn.preprocessing import StandardScaler)\n",
    "ClassifierMixin\n",
    "NeighborsBase\n",
    "KNeighborsMixin\n",
    "SupervisedIntegerMixin"
   ]
  }
 ],
 "metadata": {
  "kernelspec": {
   "display_name": "Python 3",
   "language": "python",
   "name": "python3"
  },
  "language_info": {
   "codemirror_mode": {
    "name": "ipython",
    "version": 3
   },
   "file_extension": ".py",
   "mimetype": "text/x-python",
   "name": "python",
   "nbconvert_exporter": "python",
   "pygments_lexer": "ipython3",
   "version": "3.5.2"
  }
 },
 "nbformat": 4,
 "nbformat_minor": 2
}
